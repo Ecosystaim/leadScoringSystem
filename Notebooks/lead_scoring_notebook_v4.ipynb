{
 "cells": [
  {
   "cell_type": "code",
   "execution_count": 2,
   "outputs": [],
   "source": [
    "import pandas as pd\n",
    "from sklearn.ensemble import RandomForestClassifier\n",
    "from sklearn.model_selection import train_test_split\n",
    "from sklearn.preprocessing import StandardScaler\n",
    "import joblib\n",
    "from sklearn.metrics import accuracy_score, confusion_matrix\n",
    "from sklearn.linear_model import LogisticRegression\n",
    "import pickle\n",
    "import bz2file as bz2\n",
    "\n",
    "## Import dataset\n",
    "leads_dataset = pd.read_csv('../Datasets/synthetic_leads.csv')\n",
    "leads_dataset.columns = map(str.lower, leads_dataset.columns)"
   ],
   "metadata": {
    "collapsed": false,
    "pycharm": {
     "name": "#%%\n"
    }
   }
  },
  {
   "cell_type": "code",
   "execution_count": 3,
   "outputs": [],
   "source": [
    "# Create data pre-processing steps before plugging into model\n",
    "leads_categorical_columns = ['lead_source',\n",
    "                             'country',\n",
    "                             'gender',\n",
    "                             'education_level',\n",
    "                             'occupation',\n",
    "                             'industry',\n",
    "                             'initial_response',\n",
    "                             'do_not_contact',\n",
    "                             'general_knowledge',\n",
    "                             'business_knowledge',\n",
    "                             'company_size',\n",
    "                             'lead_quality']\n",
    "\n",
    "leads_numeric_columns = ['age',\n",
    "                         'income',\n",
    "                         'total_calls_attended',\n",
    "                         'total_meetings_attended',\n",
    "                         'company_estimated_revenue',]\n",
    "\n",
    "leads_response_columns = ['lead_score']"
   ],
   "metadata": {
    "collapsed": false,
    "pycharm": {
     "name": "#%%\n"
    }
   }
  },
  {
   "cell_type": "code",
   "execution_count": 4,
   "outputs": [],
   "source": [
    "#split data for training\n",
    "\n",
    "leads_x = leads_dataset.drop(leads_response_columns, axis=1)\n",
    "leads_y = pd.DataFrame(leads_dataset[leads_response_columns])\n",
    "\n",
    "data_train, data_test, label_train, label_test = train_test_split(leads_x,\n",
    "                                                                            leads_y,\n",
    "                                                                            train_size=0.9,\n",
    "                                                                            test_size=0.1,\n",
    "                                                                            random_state=42)"
   ],
   "metadata": {
    "collapsed": false,
    "pycharm": {
     "name": "#%%\n"
    }
   }
  },
  {
   "cell_type": "code",
   "execution_count": 5,
   "outputs": [],
   "source": [
    "scaler = StandardScaler()\n",
    "scaler = scaler.fit(data_train[leads_numeric_columns])"
   ],
   "metadata": {
    "collapsed": false,
    "pycharm": {
     "name": "#%%\n"
    }
   }
  },
  {
   "cell_type": "code",
   "execution_count": 6,
   "outputs": [],
   "source": [
    "def pre_process_leads_data(df,\n",
    "                           numeric_columns,\n",
    "                           categorical_columns,\n",
    "                           fitted_scaler,\n",
    "                           train_df_columns = None):\n",
    "    ## create new df with selected columns\n",
    "    df.columns = map(str.lower, df.columns)\n",
    "    _df = df[list(numeric_columns + categorical_columns)].copy()\n",
    "\n",
    "    ## scale the numeric columns with the pre-built scaler\n",
    "    _df[numeric_columns] = fitted_scaler.transform(_df[numeric_columns])\n",
    "\n",
    "    # First, make categorical text lowercase\n",
    "    _df[categorical_columns] = _df[categorical_columns].apply(lambda x: x.str.lower())\n",
    "    # Next, create one-hot-encoded variables, add to dataframe, drop old columns\n",
    "    _df_dummies = pd.get_dummies(_df[categorical_columns])\n",
    "    print(_df_dummies.head())\n",
    "    _df = pd.concat([_df, _df_dummies], axis=1)\n",
    "\n",
    "    _df.drop(categorical_columns, axis=1, inplace = True)\n",
    "\n",
    "    if train_df_columns:\n",
    "        _df = _df.reindex(columns=train_df_columns, fill_value=0)\n",
    "\n",
    "    return _df"
   ],
   "metadata": {
    "collapsed": false,
    "pycharm": {
     "name": "#%%\n"
    }
   }
  },
  {
   "cell_type": "code",
   "execution_count": 7,
   "outputs": [
    {
     "name": "stdout",
     "output_type": "stream",
     "text": [
      "      lead_source_inbound  lead_source_organic  lead_source_other   \n",
      "8353                False                False              False  \\\n",
      "7649                False                 True              False   \n",
      "2993                 True                False              False   \n",
      "3369                False                False              False   \n",
      "9128                False                 True              False   \n",
      "\n",
      "      lead_source_paid  lead_source_referral  country_australia   \n",
      "8353              True                 False              False  \\\n",
      "7649             False                 False              False   \n",
      "2993             False                 False              False   \n",
      "3369             False                  True              False   \n",
      "9128             False                 False              False   \n",
      "\n",
      "      country_brazil  country_canada  country_china  country_france  ...   \n",
      "8353           False           False          False           False  ...  \\\n",
      "7649           False           False          False           False  ...   \n",
      "2993           False           False          False           False  ...   \n",
      "3369           False            True          False           False  ...   \n",
      "9128            True           False          False           False  ...   \n",
      "\n",
      "      business_knowledge_basic  business_knowledge_expert   \n",
      "8353                      True                      False  \\\n",
      "7649                     False                       True   \n",
      "2993                     False                      False   \n",
      "3369                     False                      False   \n",
      "9128                     False                       True   \n",
      "\n",
      "      business_knowledge_intermediate  business_knowledge_novice   \n",
      "8353                            False                      False  \\\n",
      "7649                            False                      False   \n",
      "2993                             True                      False   \n",
      "3369                             True                      False   \n",
      "9128                            False                      False   \n",
      "\n",
      "      company_size_large  company_size_medium  company_size_small   \n",
      "8353               False                False                True  \\\n",
      "7649               False                 True               False   \n",
      "2993               False                 True               False   \n",
      "3369                True                False               False   \n",
      "9128               False                False                True   \n",
      "\n",
      "      lead_quality_cold  lead_quality_hot  lead_quality_warm  \n",
      "8353               True             False              False  \n",
      "7649               True             False              False  \n",
      "2993              False              True              False  \n",
      "3369              False              True              False  \n",
      "9128               True             False              False  \n",
      "\n",
      "[5 rows x 57 columns]\n",
      "      lead_source_inbound  lead_source_organic  lead_source_other   \n",
      "5556                False                False               True  \\\n",
      "1570                False                False              False   \n",
      "2582                 True                False              False   \n",
      "4948                False                False              False   \n",
      "7089                False                False              False   \n",
      "\n",
      "      lead_source_paid  lead_source_referral  country_australia   \n",
      "5556             False                 False              False  \\\n",
      "1570             False                  True              False   \n",
      "2582             False                 False              False   \n",
      "4948              True                 False              False   \n",
      "7089              True                 False              False   \n",
      "\n",
      "      country_brazil  country_canada  country_china  country_france  ...   \n",
      "5556           False           False          False           False  ...  \\\n",
      "1570           False           False          False           False  ...   \n",
      "2582           False           False          False           False  ...   \n",
      "4948           False            True          False           False  ...   \n",
      "7089           False           False           True           False  ...   \n",
      "\n",
      "      business_knowledge_basic  business_knowledge_expert   \n",
      "5556                     False                      False  \\\n",
      "1570                     False                      False   \n",
      "2582                     False                      False   \n",
      "4948                     False                      False   \n",
      "7089                      True                      False   \n",
      "\n",
      "      business_knowledge_intermediate  business_knowledge_novice   \n",
      "5556                            False                      False  \\\n",
      "1570                             True                      False   \n",
      "2582                            False                       True   \n",
      "4948                            False                      False   \n",
      "7089                            False                      False   \n",
      "\n",
      "      company_size_large  company_size_medium  company_size_small   \n",
      "5556               False                 True               False  \\\n",
      "1570               False                 True               False   \n",
      "2582                True                False               False   \n",
      "4948                True                False               False   \n",
      "7089               False                False                True   \n",
      "\n",
      "      lead_quality_cold  lead_quality_hot  lead_quality_warm  \n",
      "5556              False              True              False  \n",
      "1570              False             False               True  \n",
      "2582              False              True              False  \n",
      "4948              False              True              False  \n",
      "7089               True             False              False  \n",
      "\n",
      "[5 rows x 57 columns]\n"
     ]
    }
   ],
   "source": [
    "data_train_clean = pre_process_leads_data(df = data_train,\n",
    "                                            numeric_columns = leads_numeric_columns,\n",
    "                                            categorical_columns = leads_categorical_columns,\n",
    "                                            fitted_scaler = scaler)\n",
    "\n",
    "data_test_clean = pre_process_leads_data(df = data_test,\n",
    "                                           numeric_columns = leads_numeric_columns,\n",
    "                                           categorical_columns = leads_categorical_columns,\n",
    "                                           fitted_scaler = scaler,\n",
    "                                           train_df_columns = data_train_clean.columns.tolist())"
   ],
   "metadata": {
    "collapsed": false,
    "pycharm": {
     "name": "#%%\n"
    }
   }
  },
  {
   "cell_type": "code",
   "execution_count": 8,
   "outputs": [
    {
     "data": {
      "text/plain": "RandomForestClassifier(min_samples_split=4)",
      "text/html": "<style>#sk-container-id-1 {color: black;background-color: white;}#sk-container-id-1 pre{padding: 0;}#sk-container-id-1 div.sk-toggleable {background-color: white;}#sk-container-id-1 label.sk-toggleable__label {cursor: pointer;display: block;width: 100%;margin-bottom: 0;padding: 0.3em;box-sizing: border-box;text-align: center;}#sk-container-id-1 label.sk-toggleable__label-arrow:before {content: \"▸\";float: left;margin-right: 0.25em;color: #696969;}#sk-container-id-1 label.sk-toggleable__label-arrow:hover:before {color: black;}#sk-container-id-1 div.sk-estimator:hover label.sk-toggleable__label-arrow:before {color: black;}#sk-container-id-1 div.sk-toggleable__content {max-height: 0;max-width: 0;overflow: hidden;text-align: left;background-color: #f0f8ff;}#sk-container-id-1 div.sk-toggleable__content pre {margin: 0.2em;color: black;border-radius: 0.25em;background-color: #f0f8ff;}#sk-container-id-1 input.sk-toggleable__control:checked~div.sk-toggleable__content {max-height: 200px;max-width: 100%;overflow: auto;}#sk-container-id-1 input.sk-toggleable__control:checked~label.sk-toggleable__label-arrow:before {content: \"▾\";}#sk-container-id-1 div.sk-estimator input.sk-toggleable__control:checked~label.sk-toggleable__label {background-color: #d4ebff;}#sk-container-id-1 div.sk-label input.sk-toggleable__control:checked~label.sk-toggleable__label {background-color: #d4ebff;}#sk-container-id-1 input.sk-hidden--visually {border: 0;clip: rect(1px 1px 1px 1px);clip: rect(1px, 1px, 1px, 1px);height: 1px;margin: -1px;overflow: hidden;padding: 0;position: absolute;width: 1px;}#sk-container-id-1 div.sk-estimator {font-family: monospace;background-color: #f0f8ff;border: 1px dotted black;border-radius: 0.25em;box-sizing: border-box;margin-bottom: 0.5em;}#sk-container-id-1 div.sk-estimator:hover {background-color: #d4ebff;}#sk-container-id-1 div.sk-parallel-item::after {content: \"\";width: 100%;border-bottom: 1px solid gray;flex-grow: 1;}#sk-container-id-1 div.sk-label:hover label.sk-toggleable__label {background-color: #d4ebff;}#sk-container-id-1 div.sk-serial::before {content: \"\";position: absolute;border-left: 1px solid gray;box-sizing: border-box;top: 0;bottom: 0;left: 50%;z-index: 0;}#sk-container-id-1 div.sk-serial {display: flex;flex-direction: column;align-items: center;background-color: white;padding-right: 0.2em;padding-left: 0.2em;position: relative;}#sk-container-id-1 div.sk-item {position: relative;z-index: 1;}#sk-container-id-1 div.sk-parallel {display: flex;align-items: stretch;justify-content: center;background-color: white;position: relative;}#sk-container-id-1 div.sk-item::before, #sk-container-id-1 div.sk-parallel-item::before {content: \"\";position: absolute;border-left: 1px solid gray;box-sizing: border-box;top: 0;bottom: 0;left: 50%;z-index: -1;}#sk-container-id-1 div.sk-parallel-item {display: flex;flex-direction: column;z-index: 1;position: relative;background-color: white;}#sk-container-id-1 div.sk-parallel-item:first-child::after {align-self: flex-end;width: 50%;}#sk-container-id-1 div.sk-parallel-item:last-child::after {align-self: flex-start;width: 50%;}#sk-container-id-1 div.sk-parallel-item:only-child::after {width: 0;}#sk-container-id-1 div.sk-dashed-wrapped {border: 1px dashed gray;margin: 0 0.4em 0.5em 0.4em;box-sizing: border-box;padding-bottom: 0.4em;background-color: white;}#sk-container-id-1 div.sk-label label {font-family: monospace;font-weight: bold;display: inline-block;line-height: 1.2em;}#sk-container-id-1 div.sk-label-container {text-align: center;}#sk-container-id-1 div.sk-container {/* jupyter's `normalize.less` sets `[hidden] { display: none; }` but bootstrap.min.css set `[hidden] { display: none !important; }` so we also need the `!important` here to be able to override the default hidden behavior on the sphinx rendered scikit-learn.org. See: https://github.com/scikit-learn/scikit-learn/issues/21755 */display: inline-block !important;position: relative;}#sk-container-id-1 div.sk-text-repr-fallback {display: none;}</style><div id=\"sk-container-id-1\" class=\"sk-top-container\"><div class=\"sk-text-repr-fallback\"><pre>RandomForestClassifier(min_samples_split=4)</pre><b>In a Jupyter environment, please rerun this cell to show the HTML representation or trust the notebook. <br />On GitHub, the HTML representation is unable to render, please try loading this page with nbviewer.org.</b></div><div class=\"sk-container\" hidden><div class=\"sk-item\"><div class=\"sk-estimator sk-toggleable\"><input class=\"sk-toggleable__control sk-hidden--visually\" id=\"sk-estimator-id-1\" type=\"checkbox\" checked><label for=\"sk-estimator-id-1\" class=\"sk-toggleable__label sk-toggleable__label-arrow\">RandomForestClassifier</label><div class=\"sk-toggleable__content\"><pre>RandomForestClassifier(min_samples_split=4)</pre></div></div></div></div></div>"
     },
     "execution_count": 8,
     "metadata": {},
     "output_type": "execute_result"
    }
   ],
   "source": [
    "## Train the random forest model\n",
    "num_estimators = 100\n",
    "min_samples = 4\n",
    "\n",
    "rf = RandomForestClassifier(n_estimators=num_estimators,\n",
    "                            min_samples_split=min_samples)\n",
    "rf.fit(data_train_clean, label_train.values.ravel())"
   ],
   "metadata": {
    "collapsed": false,
    "pycharm": {
     "name": "#%%\n"
    }
   }
  },
  {
   "cell_type": "code",
   "execution_count": 9,
   "outputs": [
    {
     "name": "stdout",
     "output_type": "stream",
     "text": [
      "Accuracy: 0.06260869565217392\n",
      "Confusion Matrix:\n",
      "[[0 1 0 ... 0 0 0]\n",
      " [0 0 1 ... 0 0 0]\n",
      " [1 3 0 ... 0 0 0]\n",
      " ...\n",
      " [0 0 0 ... 2 1 1]\n",
      " [0 0 0 ... 1 1 0]\n",
      " [0 0 0 ... 4 0 1]]\n"
     ]
    }
   ],
   "source": [
    "## Test Model Accuracy\n",
    "rf_pred = rf.predict(data_test_clean)\n",
    "rf_pred = pd.DataFrame(rf_pred)\n",
    "rf_acc = accuracy_score(label_test, rf_pred)\n",
    "rf_cnf = confusion_matrix(label_test, rf_pred)\n",
    "\n",
    "print('Accuracy:', rf_acc)\n",
    "print('Confusion Matrix:')\n",
    "print(rf_cnf)"
   ],
   "metadata": {
    "collapsed": false,
    "pycharm": {
     "name": "#%%\n"
    }
   }
  },
  {
   "cell_type": "code",
   "execution_count": 10,
   "outputs": [
    {
     "name": "stdout",
     "output_type": "stream",
     "text": [
      "Accuracy: 0.05478260869565217\n",
      "Confusion Matrix:\n",
      "[[2 0 0 ... 0 0 0]\n",
      " [0 1 0 ... 0 0 0]\n",
      " [0 1 0 ... 0 0 0]\n",
      " ...\n",
      " [0 0 0 ... 2 0 2]\n",
      " [0 0 0 ... 0 0 0]\n",
      " [0 0 0 ... 0 0 3]]\n"
     ]
    }
   ],
   "source": [
    "## Train Logistic Regression Model and Check Performance\n",
    "LR_clf = LogisticRegression(max_iter=1000)\n",
    "LR_clf.fit(data_train_clean, label_train.values.ravel())\n",
    "LR_pred = LR_clf.predict(data_test_clean)\n",
    "\n",
    "LR_acc = accuracy_score(label_test, LR_pred)\n",
    "LR_cnf = confusion_matrix(label_test, LR_pred)\n",
    "print('Accuracy:', LR_acc)\n",
    "print('Confusion Matrix:')\n",
    "print(LR_cnf)"
   ],
   "metadata": {
    "collapsed": false,
    "pycharm": {
     "name": "#%%\n"
    }
   }
  },
  {
   "cell_type": "code",
   "execution_count": 15,
   "outputs": [],
   "source": [
    "#Dump the Model into a PKL file to add to the API\n",
    "#Since Logistic Regressor performed better we pick that\n",
    "#import bz2file as bz2\n",
    "with bz2.BZ2File('model2' + '.pbz2', 'w') as f:\n",
    "#    joblib.dump(rf, f)\n",
    "    joblib.dump(rf,f)"
   ],
   "metadata": {
    "collapsed": false,
    "pycharm": {
     "name": "#%%\n"
    }
   }
  },
  {
   "cell_type": "code",
   "execution_count": 16,
   "outputs": [
    {
     "data": {
      "text/plain": "['scaler2.joblib']"
     },
     "execution_count": 16,
     "metadata": {},
     "output_type": "execute_result"
    }
   ],
   "source": [
    "#pickle.dump(scaler, open('scaler.pkl', 'wb'))\n",
    "joblib.dump(scaler,'scaler2.joblib')"
   ],
   "metadata": {
    "collapsed": false,
    "pycharm": {
     "name": "#%%\n"
    }
   }
  },
  {
   "cell_type": "code",
   "execution_count": 12,
   "outputs": [
    {
     "data": {
      "text/plain": "array([39], dtype=int64)"
     },
     "execution_count": 12,
     "metadata": {},
     "output_type": "execute_result"
    }
   ],
   "source": [
    "leads_columns = ['lead_source',\n",
    "                             'country',\n",
    "                             'age',\n",
    "                             'gender',\n",
    "                             'education_level',\n",
    "                             'occupation',\n",
    "                             'industry',\n",
    "                             'income',\n",
    "                             'initial_response',\n",
    "                             'do_not_contact',\n",
    "                             'total_calls_attended',\n",
    "                             'total_meetings_attended',\n",
    "                             'general_knowledge',\n",
    "                             'business_knowledge',\n",
    "                             'company_size',\n",
    "                             'company_estimated_revenue',\n",
    "                             'lead_quality']\n",
    "lead = [\n",
    "    'REFERRAL',\n",
    "    'Japan',\n",
    "    24,\n",
    "    'OTHER',\n",
    "    'HIGH SCHOOL',\n",
    "    'RETIRED',\n",
    "    'MANUFACTURING',\n",
    "    47000,\n",
    "    'NEUTRAL',\n",
    "    'Yes',\n",
    "    1,\n",
    "    0,\n",
    "    'NOVICE',\n",
    "    'INTERMEDIATE',\n",
    "    'SMALL',\n",
    "    72000,\n",
    "    'COLD']\n",
    "\n",
    "lead = pd.DataFrame([lead], columns= leads_columns)\n",
    "lead[leads_categorical_columns] = lead[leads_categorical_columns].apply(lambda x: x.str.lower())\n",
    "lead = pd.get_dummies(lead)\n",
    "#lead.head()\n",
    "#lead.head()\n",
    "new_df = pd.DataFrame(columns=data_train_clean.columns)\n",
    "new_df = pd.concat([new_df,lead], axis=0, ignore_index = True, sort = False)\n",
    "empty_cols = new_df.columns[new_df.isnull().any()]\n",
    "new_df[empty_cols] = new_df[empty_cols].fillna(False)\n",
    "new_df[leads_numeric_columns] = scaler.transform(new_df[leads_numeric_columns])\n",
    "rf.predict(new_df)\n",
    "#lead_dummy = pd.get_dummies(lead,columns=leads_categorical_columns)\n",
    "#lead_dummy.head()"
   ],
   "metadata": {
    "collapsed": false,
    "pycharm": {
     "name": "#%%\n"
    }
   }
  }
 ],
 "metadata": {
  "kernelspec": {
   "display_name": "Python 3",
   "language": "python",
   "name": "python3"
  },
  "language_info": {
   "codemirror_mode": {
    "name": "ipython",
    "version": 2
   },
   "file_extension": ".py",
   "mimetype": "text/x-python",
   "name": "python",
   "nbconvert_exporter": "python",
   "pygments_lexer": "ipython2",
   "version": "2.7.6"
  }
 },
 "nbformat": 4,
 "nbformat_minor": 0
}