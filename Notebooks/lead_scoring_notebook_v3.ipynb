{
 "cells": [
  {
   "cell_type": "code",
   "execution_count": 62,
   "outputs": [],
   "source": [
    "import requests\n",
    "import boto3\n",
    "import mlflow\n",
    "from mlflow import pyfunc as ml_pyfunc\n",
    "import pandas as pd\n",
    "import numpy as np\n",
    "import statsmodels.api as sm\n",
    "from sklearn.ensemble import RandomForestClassifier\n",
    "from sklearn.model_selection import train_test_split\n",
    "from sklearn.preprocessing import StandardScaler\n",
    "from sklearn.naive_bayes import MultinomialNB\n",
    "from sklearn.metrics import accuracy_score, confusion_matrix\n",
    "from sklearn.linear_model import LogisticRegression\n",
    "from sklearn.feature_selection import RFE\n",
    "from sklearn import metrics\n",
    "\n",
    "## Import dataset\n",
    "leads_dataset = pd.read_csv('Datasets/synthetic_leads.csv')\n",
    "leads_dataset.columns = map(str.lower, leads_dataset.columns)"
   ],
   "metadata": {
    "collapsed": false,
    "pycharm": {
     "name": "#%%\n"
    }
   }
  },
  {
   "cell_type": "code",
   "execution_count": 63,
   "outputs": [],
   "source": [
    "# Create data pre-processing steps before plugging into model\n",
    "leads_categorical_columns = ['lead_source',\n",
    "                             'country',\n",
    "                             'gender',\n",
    "                             'education_level',\n",
    "                             'occupation',\n",
    "                             'industry',\n",
    "                             'initial_response',\n",
    "                             'general_knowledge',\n",
    "                             'business_knowledge',\n",
    "                             'company_size',\n",
    "                             'lead_quality']\n",
    "\n",
    "leads_numeric_columns = ['age',\n",
    "                         'income',\n",
    "                         'total_calls_attended',\n",
    "                         'total_meetings_attended',\n",
    "                         'company_estimated_revenue',]\n",
    "\n",
    "leads_response_columns = ['lead_score']"
   ],
   "metadata": {
    "collapsed": false,
    "pycharm": {
     "name": "#%%\n"
    }
   }
  },
  {
   "cell_type": "code",
   "execution_count": 64,
   "outputs": [],
   "source": [
    "#split data for training, remove extras\n",
    "\n",
    "leads_x = leads_dataset.drop(leads_response_columns, axis=1)\n",
    "leads_y = pd.DataFrame(leads_dataset[leads_response_columns])\n",
    "\n",
    "data_train, data_test, label_train, label_test = train_test_split(leads_x,\n",
    "                                                                            leads_y,\n",
    "                                                                            train_size=0.9,\n",
    "                                                                            test_size=0.1,\n",
    "                                                                            random_state=100)"
   ],
   "metadata": {
    "collapsed": false,
    "pycharm": {
     "name": "#%%\n"
    }
   }
  },
  {
   "cell_type": "code",
   "execution_count": 65,
   "outputs": [
    {
     "name": "stdout",
     "output_type": "stream",
     "text": [
      "<class 'pandas.core.frame.DataFrame'>\n",
      "Index: 9000 entries, 351 to 5640\n",
      "Data columns (total 17 columns):\n",
      " #   Column                     Non-Null Count  Dtype \n",
      "---  ------                     --------------  ----- \n",
      " 0   lead_source                9000 non-null   object\n",
      " 1   country                    9000 non-null   object\n",
      " 2   age                        9000 non-null   int64 \n",
      " 3   gender                     9000 non-null   object\n",
      " 4   education_level            9000 non-null   object\n",
      " 5   occupation                 9000 non-null   object\n",
      " 6   industry                   9000 non-null   object\n",
      " 7   income                     9000 non-null   int64 \n",
      " 8   initial_response           9000 non-null   object\n",
      " 9   do_not_contact             9000 non-null   object\n",
      " 10  total_calls_attended       9000 non-null   int64 \n",
      " 11  total_meetings_attended    9000 non-null   int64 \n",
      " 12  general_knowledge          9000 non-null   object\n",
      " 13  business_knowledge         9000 non-null   object\n",
      " 14  company_size               9000 non-null   object\n",
      " 15  company_estimated_revenue  9000 non-null   int64 \n",
      " 16  lead_quality               9000 non-null   object\n",
      "dtypes: int64(5), object(12)\n",
      "memory usage: 1.2+ MB\n",
      "<class 'pandas.core.frame.DataFrame'>\n",
      "Index: 9000 entries, 351 to 5640\n",
      "Data columns (total 1 columns):\n",
      " #   Column      Non-Null Count  Dtype\n",
      "---  ------      --------------  -----\n",
      " 0   lead_score  9000 non-null   int64\n",
      "dtypes: int64(1)\n",
      "memory usage: 140.6 KB\n"
     ]
    }
   ],
   "source": [
    "data_train.info()\n",
    "label_train.info()"
   ],
   "metadata": {
    "collapsed": false,
    "pycharm": {
     "name": "#%%\n"
    }
   }
  },
  {
   "cell_type": "code",
   "execution_count": 66,
   "outputs": [],
   "source": [
    "scaler = StandardScaler()\n",
    "scaler = scaler.fit(data_train[leads_numeric_columns])"
   ],
   "metadata": {
    "collapsed": false,
    "pycharm": {
     "name": "#%%\n"
    }
   }
  },
  {
   "cell_type": "code",
   "execution_count": 67,
   "outputs": [],
   "source": [
    "def pre_process_leads_data(df,\n",
    "                           numeric_columns,\n",
    "                           categorical_columns,\n",
    "                           fitted_scaler,\n",
    "                           train_df_columns = None):\n",
    "    ## create new df with selected columns\n",
    "    df.columns = map(str.lower, df.columns)\n",
    "    _df = df[list(numeric_columns + categorical_columns)].copy()\n",
    "\n",
    "    ## scale the numeric columns with the pre-built scaler\n",
    "    _df[numeric_columns] = fitted_scaler.transform(_df[numeric_columns])\n",
    "\n",
    "    # First, make categorical text lowercase\n",
    "    _df[categorical_columns] = _df[categorical_columns].apply(lambda x: x.str.lower())\n",
    "    # Next, create one-hot-encoded variables, add to dataframe, drop old columns\n",
    "    _df_dummies = pd.get_dummies(_df[categorical_columns], drop_first=True)\n",
    "    _df = pd.concat([_df, _df_dummies], axis=1)\n",
    "    _df.drop(categorical_columns, axis=1, inplace = True)\n",
    "\n",
    "    if train_df_columns:\n",
    "        _df = _df.reindex(columns=train_df_columns, fill_value=0)\n",
    "\n",
    "    return _df"
   ],
   "metadata": {
    "collapsed": false,
    "pycharm": {
     "name": "#%%\n"
    }
   }
  },
  {
   "cell_type": "code",
   "execution_count": 68,
   "outputs": [],
   "source": [
    "data_train_clean = pre_process_leads_data(df = data_train,\n",
    "                                            numeric_columns = leads_numeric_columns,\n",
    "                                            categorical_columns = leads_categorical_columns,\n",
    "                                            fitted_scaler = scaler)\n",
    "\n",
    "data_test_clean = pre_process_leads_data(df = data_test,\n",
    "                                           numeric_columns = leads_numeric_columns,\n",
    "                                           categorical_columns = leads_categorical_columns,\n",
    "                                           fitted_scaler = scaler,\n",
    "                                           train_df_columns = data_train_clean.columns.tolist())"
   ],
   "metadata": {
    "collapsed": false,
    "pycharm": {
     "name": "#%%\n"
    }
   }
  },
  {
   "cell_type": "code",
   "execution_count": 69,
   "outputs": [
    {
     "name": "stdout",
     "output_type": "stream",
     "text": [
      "<class 'pandas.core.frame.DataFrame'>\n",
      "Index: 9000 entries, 351 to 5640\n",
      "Data columns (total 49 columns):\n",
      " #   Column                           Non-Null Count  Dtype  \n",
      "---  ------                           --------------  -----  \n",
      " 0   age                              9000 non-null   float64\n",
      " 1   income                           9000 non-null   float64\n",
      " 2   total_calls_attended             9000 non-null   float64\n",
      " 3   total_meetings_attended          9000 non-null   float64\n",
      " 4   company_estimated_revenue        9000 non-null   float64\n",
      " 5   lead_source_organic              9000 non-null   bool   \n",
      " 6   lead_source_other                9000 non-null   bool   \n",
      " 7   lead_source_paid                 9000 non-null   bool   \n",
      " 8   lead_source_referral             9000 non-null   bool   \n",
      " 9   country_brazil                   9000 non-null   bool   \n",
      " 10  country_canada                   9000 non-null   bool   \n",
      " 11  country_china                    9000 non-null   bool   \n",
      " 12  country_france                   9000 non-null   bool   \n",
      " 13  country_germany                  9000 non-null   bool   \n",
      " 14  country_india                    9000 non-null   bool   \n",
      " 15  country_japan                    9000 non-null   bool   \n",
      " 16  country_pakistan                 9000 non-null   bool   \n",
      " 17  country_uk                       9000 non-null   bool   \n",
      " 18  country_usa                      9000 non-null   bool   \n",
      " 19  gender_male                      9000 non-null   bool   \n",
      " 20  gender_other                     9000 non-null   bool   \n",
      " 21  education_level_college          9000 non-null   bool   \n",
      " 22  education_level_high school      9000 non-null   bool   \n",
      " 23  education_level_master           9000 non-null   bool   \n",
      " 24  education_level_phd              9000 non-null   bool   \n",
      " 25  occupation_employee              9000 non-null   bool   \n",
      " 26  occupation_other                 9000 non-null   bool   \n",
      " 27  occupation_retired               9000 non-null   bool   \n",
      " 28  occupation_self-employed         9000 non-null   bool   \n",
      " 29  occupation_unemployed            9000 non-null   bool   \n",
      " 30  industry_healthcare              9000 non-null   bool   \n",
      " 31  industry_manufacturing           9000 non-null   bool   \n",
      " 32  industry_retail                  9000 non-null   bool   \n",
      " 33  industry_services                9000 non-null   bool   \n",
      " 34  industry_technology              9000 non-null   bool   \n",
      " 35  initial_response_neutral         9000 non-null   bool   \n",
      " 36  initial_response_positive        9000 non-null   bool   \n",
      " 37  general_knowledge_basic          9000 non-null   bool   \n",
      " 38  general_knowledge_expert         9000 non-null   bool   \n",
      " 39  general_knowledge_intermediate   9000 non-null   bool   \n",
      " 40  general_knowledge_novice         9000 non-null   bool   \n",
      " 41  business_knowledge_basic         9000 non-null   bool   \n",
      " 42  business_knowledge_expert        9000 non-null   bool   \n",
      " 43  business_knowledge_intermediate  9000 non-null   bool   \n",
      " 44  business_knowledge_novice        9000 non-null   bool   \n",
      " 45  company_size_medium              9000 non-null   bool   \n",
      " 46  company_size_small               9000 non-null   bool   \n",
      " 47  lead_quality_hot                 9000 non-null   bool   \n",
      " 48  lead_quality_warm                9000 non-null   bool   \n",
      "dtypes: bool(44), float64(5)\n",
      "memory usage: 808.6 KB\n",
      "<class 'pandas.core.frame.DataFrame'>\n",
      "Index: 1000 entries, 8018 to 4618\n",
      "Data columns (total 49 columns):\n",
      " #   Column                           Non-Null Count  Dtype  \n",
      "---  ------                           --------------  -----  \n",
      " 0   age                              1000 non-null   float64\n",
      " 1   income                           1000 non-null   float64\n",
      " 2   total_calls_attended             1000 non-null   float64\n",
      " 3   total_meetings_attended          1000 non-null   float64\n",
      " 4   company_estimated_revenue        1000 non-null   float64\n",
      " 5   lead_source_organic              1000 non-null   bool   \n",
      " 6   lead_source_other                1000 non-null   bool   \n",
      " 7   lead_source_paid                 1000 non-null   bool   \n",
      " 8   lead_source_referral             1000 non-null   bool   \n",
      " 9   country_brazil                   1000 non-null   bool   \n",
      " 10  country_canada                   1000 non-null   bool   \n",
      " 11  country_china                    1000 non-null   bool   \n",
      " 12  country_france                   1000 non-null   bool   \n",
      " 13  country_germany                  1000 non-null   bool   \n",
      " 14  country_india                    1000 non-null   bool   \n",
      " 15  country_japan                    1000 non-null   bool   \n",
      " 16  country_pakistan                 1000 non-null   bool   \n",
      " 17  country_uk                       1000 non-null   bool   \n",
      " 18  country_usa                      1000 non-null   bool   \n",
      " 19  gender_male                      1000 non-null   bool   \n",
      " 20  gender_other                     1000 non-null   bool   \n",
      " 21  education_level_college          1000 non-null   bool   \n",
      " 22  education_level_high school      1000 non-null   bool   \n",
      " 23  education_level_master           1000 non-null   bool   \n",
      " 24  education_level_phd              1000 non-null   bool   \n",
      " 25  occupation_employee              1000 non-null   bool   \n",
      " 26  occupation_other                 1000 non-null   bool   \n",
      " 27  occupation_retired               1000 non-null   bool   \n",
      " 28  occupation_self-employed         1000 non-null   bool   \n",
      " 29  occupation_unemployed            1000 non-null   bool   \n",
      " 30  industry_healthcare              1000 non-null   bool   \n",
      " 31  industry_manufacturing           1000 non-null   bool   \n",
      " 32  industry_retail                  1000 non-null   bool   \n",
      " 33  industry_services                1000 non-null   bool   \n",
      " 34  industry_technology              1000 non-null   bool   \n",
      " 35  initial_response_neutral         1000 non-null   bool   \n",
      " 36  initial_response_positive        1000 non-null   bool   \n",
      " 37  general_knowledge_basic          1000 non-null   bool   \n",
      " 38  general_knowledge_expert         1000 non-null   bool   \n",
      " 39  general_knowledge_intermediate   1000 non-null   bool   \n",
      " 40  general_knowledge_novice         1000 non-null   bool   \n",
      " 41  business_knowledge_basic         1000 non-null   bool   \n",
      " 42  business_knowledge_expert        1000 non-null   bool   \n",
      " 43  business_knowledge_intermediate  1000 non-null   bool   \n",
      " 44  business_knowledge_novice        1000 non-null   bool   \n",
      " 45  company_size_medium              1000 non-null   bool   \n",
      " 46  company_size_small               1000 non-null   bool   \n",
      " 47  lead_quality_hot                 1000 non-null   bool   \n",
      " 48  lead_quality_warm                1000 non-null   bool   \n",
      "dtypes: bool(44), float64(5)\n",
      "memory usage: 89.8 KB\n"
     ]
    }
   ],
   "source": [
    "data_train_clean.info()\n",
    "data_test_clean.info()"
   ],
   "metadata": {
    "collapsed": false,
    "pycharm": {
     "name": "#%%\n"
    }
   }
  },
  {
   "cell_type": "code",
   "execution_count": 70,
   "outputs": [
    {
     "data": {
      "text/plain": "RFE(estimator=LogisticRegression(max_iter=1000), n_features_to_select=15)",
      "text/html": "<style>#sk-container-id-7 {color: black;background-color: white;}#sk-container-id-7 pre{padding: 0;}#sk-container-id-7 div.sk-toggleable {background-color: white;}#sk-container-id-7 label.sk-toggleable__label {cursor: pointer;display: block;width: 100%;margin-bottom: 0;padding: 0.3em;box-sizing: border-box;text-align: center;}#sk-container-id-7 label.sk-toggleable__label-arrow:before {content: \"▸\";float: left;margin-right: 0.25em;color: #696969;}#sk-container-id-7 label.sk-toggleable__label-arrow:hover:before {color: black;}#sk-container-id-7 div.sk-estimator:hover label.sk-toggleable__label-arrow:before {color: black;}#sk-container-id-7 div.sk-toggleable__content {max-height: 0;max-width: 0;overflow: hidden;text-align: left;background-color: #f0f8ff;}#sk-container-id-7 div.sk-toggleable__content pre {margin: 0.2em;color: black;border-radius: 0.25em;background-color: #f0f8ff;}#sk-container-id-7 apiInput.sk-toggleable__control:checked~div.sk-toggleable__content {max-height: 200px;max-width: 100%;overflow: auto;}#sk-container-id-7 apiInput.sk-toggleable__control:checked~label.sk-toggleable__label-arrow:before {content: \"▾\";}#sk-container-id-7 div.sk-estimator apiInput.sk-toggleable__control:checked~label.sk-toggleable__label {background-color: #d4ebff;}#sk-container-id-7 div.sk-label apiInput.sk-toggleable__control:checked~label.sk-toggleable__label {background-color: #d4ebff;}#sk-container-id-7 apiInput.sk-hidden--visually {border: 0;clip: rect(1px 1px 1px 1px);clip: rect(1px, 1px, 1px, 1px);height: 1px;margin: -1px;overflow: hidden;padding: 0;position: absolute;width: 1px;}#sk-container-id-7 div.sk-estimator {font-family: monospace;background-color: #f0f8ff;border: 1px dotted black;border-radius: 0.25em;box-sizing: border-box;margin-bottom: 0.5em;}#sk-container-id-7 div.sk-estimator:hover {background-color: #d4ebff;}#sk-container-id-7 div.sk-parallel-item::after {content: \"\";width: 100%;border-bottom: 1px solid gray;flex-grow: 1;}#sk-container-id-7 div.sk-label:hover label.sk-toggleable__label {background-color: #d4ebff;}#sk-container-id-7 div.sk-serial::before {content: \"\";position: absolute;border-left: 1px solid gray;box-sizing: border-box;top: 0;bottom: 0;left: 50%;z-index: 0;}#sk-container-id-7 div.sk-serial {display: flex;flex-direction: column;align-items: center;background-color: white;padding-right: 0.2em;padding-left: 0.2em;position: relative;}#sk-container-id-7 div.sk-item {position: relative;z-index: 1;}#sk-container-id-7 div.sk-parallel {display: flex;align-items: stretch;justify-content: center;background-color: white;position: relative;}#sk-container-id-7 div.sk-item::before, #sk-container-id-7 div.sk-parallel-item::before {content: \"\";position: absolute;border-left: 1px solid gray;box-sizing: border-box;top: 0;bottom: 0;left: 50%;z-index: -1;}#sk-container-id-7 div.sk-parallel-item {display: flex;flex-direction: column;z-index: 1;position: relative;background-color: white;}#sk-container-id-7 div.sk-parallel-item:first-child::after {align-self: flex-end;width: 50%;}#sk-container-id-7 div.sk-parallel-item:last-child::after {align-self: flex-start;width: 50%;}#sk-container-id-7 div.sk-parallel-item:only-child::after {width: 0;}#sk-container-id-7 div.sk-dashed-wrapped {border: 1px dashed gray;margin: 0 0.4em 0.5em 0.4em;box-sizing: border-box;padding-bottom: 0.4em;background-color: white;}#sk-container-id-7 div.sk-label label {font-family: monospace;font-weight: bold;display: inline-block;line-height: 1.2em;}#sk-container-id-7 div.sk-label-container {text-align: center;}#sk-container-id-7 div.sk-container {/* jupyter's `normalize.less` sets `[hidden] { display: none; }` but bootstrap.min.css set `[hidden] { display: none !important; }` so we also need the `!important` here to be able to override the default hidden behavior on the sphinx rendered scikit-learn.org. See: https://github.com/scikit-learn/scikit-learn/issues/21755 */display: inline-block !important;position: relative;}#sk-container-id-7 div.sk-text-repr-fallback {display: none;}</style><div id=\"sk-container-id-7\" class=\"sk-top-container\"><div class=\"sk-text-repr-fallback\"><pre>RFE(estimator=LogisticRegression(max_iter=1000), n_features_to_select=15)</pre><b>In a Jupyter environment, please rerun this cell to show the HTML representation or trust the notebook. <br />On GitHub, the HTML representation is unable to render, please try loading this page with nbviewer.org.</b></div><div class=\"sk-container\" hidden><div class=\"sk-item sk-dashed-wrapped\"><div class=\"sk-label-container\"><div class=\"sk-label sk-toggleable\"><apiInput class=\"sk-toggleable__control sk-hidden--visually\" id=\"sk-estimator-id-11\" type=\"checkbox\" ><label for=\"sk-estimator-id-11\" class=\"sk-toggleable__label sk-toggleable__label-arrow\">RFE</label><div class=\"sk-toggleable__content\"><pre>RFE(estimator=LogisticRegression(max_iter=1000), n_features_to_select=15)</pre></div></div></div><div class=\"sk-parallel\"><div class=\"sk-parallel-item\"><div class=\"sk-item\"><div class=\"sk-label-container\"><div class=\"sk-label sk-toggleable\"><apiInput class=\"sk-toggleable__control sk-hidden--visually\" id=\"sk-estimator-id-12\" type=\"checkbox\" ><label for=\"sk-estimator-id-12\" class=\"sk-toggleable__label sk-toggleable__label-arrow\">estimator: LogisticRegression</label><div class=\"sk-toggleable__content\"><pre>LogisticRegression(max_iter=1000)</pre></div></div></div><div class=\"sk-serial\"><div class=\"sk-item\"><div class=\"sk-estimator sk-toggleable\"><apiInput class=\"sk-toggleable__control sk-hidden--visually\" id=\"sk-estimator-id-13\" type=\"checkbox\" ><label for=\"sk-estimator-id-13\" class=\"sk-toggleable__label sk-toggleable__label-arrow\">LogisticRegression</label><div class=\"sk-toggleable__content\"><pre>LogisticRegression(max_iter=1000)</pre></div></div></div></div></div></div></div></div></div></div>"
     },
     "execution_count": 70,
     "metadata": {},
     "output_type": "execute_result"
    }
   ],
   "source": [
    "logreg = LogisticRegression(max_iter=1000)\n",
    "rfe = RFE(estimator=logreg, n_features_to_select= 15)\n",
    "rfe.fit(data_train_clean,label_train.values.ravel())"
   ],
   "metadata": {
    "collapsed": false,
    "pycharm": {
     "name": "#%%\n"
    }
   }
  },
  {
   "cell_type": "code",
   "execution_count": 71,
   "outputs": [
    {
     "data": {
      "text/plain": "['age',\n 'income',\n 'total_calls_attended',\n 'total_meetings_attended',\n 'company_estimated_revenue',\n 'lead_source_other',\n 'lead_source_referral',\n 'education_level_master',\n 'occupation_employee',\n 'occupation_unemployed',\n 'initial_response_neutral',\n 'initial_response_positive',\n 'company_size_medium',\n 'lead_quality_hot',\n 'lead_quality_warm']"
     },
     "execution_count": 71,
     "metadata": {},
     "output_type": "execute_result"
    }
   ],
   "source": [
    "rfe_col = list(data_train_clean.columns[rfe.support_])\n",
    "rfe_col"
   ],
   "metadata": {
    "collapsed": false,
    "pycharm": {
     "name": "#%%\n"
    }
   }
  },
  {
   "cell_type": "code",
   "execution_count": 72,
   "outputs": [],
   "source": [
    "data_train_clean_rfe = data_train_clean[rfe_col]\n",
    "data_test_clean_rfe = data_test_clean[rfe_col]"
   ],
   "metadata": {
    "collapsed": false,
    "pycharm": {
     "name": "#%%\n"
    }
   }
  },
  {
   "cell_type": "code",
   "execution_count": 73,
   "outputs": [
    {
     "data": {
      "text/plain": "RandomForestClassifier(min_samples_split=4)",
      "text/html": "<style>#sk-container-id-8 {color: black;background-color: white;}#sk-container-id-8 pre{padding: 0;}#sk-container-id-8 div.sk-toggleable {background-color: white;}#sk-container-id-8 label.sk-toggleable__label {cursor: pointer;display: block;width: 100%;margin-bottom: 0;padding: 0.3em;box-sizing: border-box;text-align: center;}#sk-container-id-8 label.sk-toggleable__label-arrow:before {content: \"▸\";float: left;margin-right: 0.25em;color: #696969;}#sk-container-id-8 label.sk-toggleable__label-arrow:hover:before {color: black;}#sk-container-id-8 div.sk-estimator:hover label.sk-toggleable__label-arrow:before {color: black;}#sk-container-id-8 div.sk-toggleable__content {max-height: 0;max-width: 0;overflow: hidden;text-align: left;background-color: #f0f8ff;}#sk-container-id-8 div.sk-toggleable__content pre {margin: 0.2em;color: black;border-radius: 0.25em;background-color: #f0f8ff;}#sk-container-id-8 apiInput.sk-toggleable__control:checked~div.sk-toggleable__content {max-height: 200px;max-width: 100%;overflow: auto;}#sk-container-id-8 apiInput.sk-toggleable__control:checked~label.sk-toggleable__label-arrow:before {content: \"▾\";}#sk-container-id-8 div.sk-estimator apiInput.sk-toggleable__control:checked~label.sk-toggleable__label {background-color: #d4ebff;}#sk-container-id-8 div.sk-label apiInput.sk-toggleable__control:checked~label.sk-toggleable__label {background-color: #d4ebff;}#sk-container-id-8 apiInput.sk-hidden--visually {border: 0;clip: rect(1px 1px 1px 1px);clip: rect(1px, 1px, 1px, 1px);height: 1px;margin: -1px;overflow: hidden;padding: 0;position: absolute;width: 1px;}#sk-container-id-8 div.sk-estimator {font-family: monospace;background-color: #f0f8ff;border: 1px dotted black;border-radius: 0.25em;box-sizing: border-box;margin-bottom: 0.5em;}#sk-container-id-8 div.sk-estimator:hover {background-color: #d4ebff;}#sk-container-id-8 div.sk-parallel-item::after {content: \"\";width: 100%;border-bottom: 1px solid gray;flex-grow: 1;}#sk-container-id-8 div.sk-label:hover label.sk-toggleable__label {background-color: #d4ebff;}#sk-container-id-8 div.sk-serial::before {content: \"\";position: absolute;border-left: 1px solid gray;box-sizing: border-box;top: 0;bottom: 0;left: 50%;z-index: 0;}#sk-container-id-8 div.sk-serial {display: flex;flex-direction: column;align-items: center;background-color: white;padding-right: 0.2em;padding-left: 0.2em;position: relative;}#sk-container-id-8 div.sk-item {position: relative;z-index: 1;}#sk-container-id-8 div.sk-parallel {display: flex;align-items: stretch;justify-content: center;background-color: white;position: relative;}#sk-container-id-8 div.sk-item::before, #sk-container-id-8 div.sk-parallel-item::before {content: \"\";position: absolute;border-left: 1px solid gray;box-sizing: border-box;top: 0;bottom: 0;left: 50%;z-index: -1;}#sk-container-id-8 div.sk-parallel-item {display: flex;flex-direction: column;z-index: 1;position: relative;background-color: white;}#sk-container-id-8 div.sk-parallel-item:first-child::after {align-self: flex-end;width: 50%;}#sk-container-id-8 div.sk-parallel-item:last-child::after {align-self: flex-start;width: 50%;}#sk-container-id-8 div.sk-parallel-item:only-child::after {width: 0;}#sk-container-id-8 div.sk-dashed-wrapped {border: 1px dashed gray;margin: 0 0.4em 0.5em 0.4em;box-sizing: border-box;padding-bottom: 0.4em;background-color: white;}#sk-container-id-8 div.sk-label label {font-family: monospace;font-weight: bold;display: inline-block;line-height: 1.2em;}#sk-container-id-8 div.sk-label-container {text-align: center;}#sk-container-id-8 div.sk-container {/* jupyter's `normalize.less` sets `[hidden] { display: none; }` but bootstrap.min.css set `[hidden] { display: none !important; }` so we also need the `!important` here to be able to override the default hidden behavior on the sphinx rendered scikit-learn.org. See: https://github.com/scikit-learn/scikit-learn/issues/21755 */display: inline-block !important;position: relative;}#sk-container-id-8 div.sk-text-repr-fallback {display: none;}</style><div id=\"sk-container-id-8\" class=\"sk-top-container\"><div class=\"sk-text-repr-fallback\"><pre>RandomForestClassifier(min_samples_split=4)</pre><b>In a Jupyter environment, please rerun this cell to show the HTML representation or trust the notebook. <br />On GitHub, the HTML representation is unable to render, please try loading this page with nbviewer.org.</b></div><div class=\"sk-container\" hidden><div class=\"sk-item\"><div class=\"sk-estimator sk-toggleable\"><apiInput class=\"sk-toggleable__control sk-hidden--visually\" id=\"sk-estimator-id-14\" type=\"checkbox\" checked><label for=\"sk-estimator-id-14\" class=\"sk-toggleable__label sk-toggleable__label-arrow\">RandomForestClassifier</label><div class=\"sk-toggleable__content\"><pre>RandomForestClassifier(min_samples_split=4)</pre></div></div></div></div></div>"
     },
     "execution_count": 73,
     "metadata": {},
     "output_type": "execute_result"
    }
   ],
   "source": [
    "## Train the random forest model\n",
    "num_estimators = 100\n",
    "min_samples = 4\n",
    "\n",
    "rf = RandomForestClassifier(n_estimators=num_estimators,\n",
    "                            min_samples_split=min_samples)\n",
    "rf.fit(data_train_clean, label_train.values.ravel())"
   ],
   "metadata": {
    "collapsed": false,
    "pycharm": {
     "name": "#%%\n"
    }
   }
  },
  {
   "cell_type": "code",
   "execution_count": 74,
   "outputs": [
    {
     "name": "stdout",
     "output_type": "stream",
     "text": [
      "Accuracy: 0.046\n",
      "Confusion Matrix:\n",
      "[[0 1 0 ... 0 0 0]\n",
      " [0 0 0 ... 0 0 0]\n",
      " [1 0 0 ... 0 0 0]\n",
      " ...\n",
      " [0 0 0 ... 1 1 1]\n",
      " [0 0 0 ... 2 2 0]\n",
      " [0 0 0 ... 0 1 0]]\n"
     ]
    }
   ],
   "source": [
    "rf_pred = rf.predict(data_test_clean)\n",
    "rf_pred = pd.DataFrame(rf_pred)\n",
    "rf_acc = accuracy_score(label_test, rf_pred)\n",
    "rf_cnf = confusion_matrix(label_test, rf_pred)\n",
    "\n",
    "print('Accuracy:', rf_acc)\n",
    "print('Confusion Matrix:')\n",
    "print(rf_cnf)"
   ],
   "metadata": {
    "collapsed": false,
    "pycharm": {
     "name": "#%%\n"
    }
   }
  },
  {
   "cell_type": "code",
   "execution_count": 75,
   "outputs": [
    {
     "data": {
      "text/plain": "      lead_score\n8018          32\n9225          22\n3854          82\n2029          79\n3539          99",
      "text/html": "<div>\n<style scoped>\n    .dataframe tbody tr th:only-of-type {\n        vertical-align: middle;\n    }\n\n    .dataframe tbody tr th {\n        vertical-align: top;\n    }\n\n    .dataframe thead th {\n        text-align: right;\n    }\n</style>\n<table border=\"1\" class=\"dataframe\">\n  <thead>\n    <tr style=\"text-align: right;\">\n      <th></th>\n      <th>lead_score</th>\n    </tr>\n  </thead>\n  <tbody>\n    <tr>\n      <th>8018</th>\n      <td>32</td>\n    </tr>\n    <tr>\n      <th>9225</th>\n      <td>22</td>\n    </tr>\n    <tr>\n      <th>3854</th>\n      <td>82</td>\n    </tr>\n    <tr>\n      <th>2029</th>\n      <td>79</td>\n    </tr>\n    <tr>\n      <th>3539</th>\n      <td>99</td>\n    </tr>\n  </tbody>\n</table>\n</div>"
     },
     "execution_count": 75,
     "metadata": {},
     "output_type": "execute_result"
    }
   ],
   "source": [
    "label_test.head()"
   ],
   "metadata": {
    "collapsed": false,
    "pycharm": {
     "name": "#%%\n"
    }
   }
  },
  {
   "cell_type": "code",
   "execution_count": 76,
   "outputs": [
    {
     "data": {
      "text/plain": "    0\n0  20\n1  39\n2  98\n3  84\n4  93",
      "text/html": "<div>\n<style scoped>\n    .dataframe tbody tr th:only-of-type {\n        vertical-align: middle;\n    }\n\n    .dataframe tbody tr th {\n        vertical-align: top;\n    }\n\n    .dataframe thead th {\n        text-align: right;\n    }\n</style>\n<table border=\"1\" class=\"dataframe\">\n  <thead>\n    <tr style=\"text-align: right;\">\n      <th></th>\n      <th>0</th>\n    </tr>\n  </thead>\n  <tbody>\n    <tr>\n      <th>0</th>\n      <td>20</td>\n    </tr>\n    <tr>\n      <th>1</th>\n      <td>39</td>\n    </tr>\n    <tr>\n      <th>2</th>\n      <td>98</td>\n    </tr>\n    <tr>\n      <th>3</th>\n      <td>84</td>\n    </tr>\n    <tr>\n      <th>4</th>\n      <td>93</td>\n    </tr>\n  </tbody>\n</table>\n</div>"
     },
     "execution_count": 76,
     "metadata": {},
     "output_type": "execute_result"
    }
   ],
   "source": [
    "rf_pred.head()"
   ],
   "metadata": {
    "collapsed": false,
    "pycharm": {
     "name": "#%%\n"
    }
   }
  },
  {
   "cell_type": "code",
   "execution_count": 77,
   "outputs": [
    {
     "name": "stdout",
     "output_type": "stream",
     "text": [
      "Accuracy: 0.046\n",
      "Confusion Matrix:\n",
      "[[1 0 0 ... 0 0 0]\n",
      " [0 2 0 ... 0 0 0]\n",
      " [0 0 0 ... 0 0 0]\n",
      " ...\n",
      " [0 0 0 ... 1 0 0]\n",
      " [0 0 0 ... 1 1 0]\n",
      " [0 0 0 ... 2 1 0]]\n"
     ]
    },
    {
     "name": "stderr",
     "output_type": "stream",
     "text": [
      "C:\\Users\\hp\\PycharmProjects\\leadScoringModel\\venv\\lib\\site-packages\\sklearn\\linear_model\\_logistic.py:458: ConvergenceWarning: lbfgs failed to converge (status=1):\n",
      "STOP: TOTAL NO. of ITERATIONS REACHED LIMIT.\n",
      "\n",
      "Increase the number of iterations (max_iter) or scale the data as shown in:\n",
      "    https://scikit-learn.org/stable/modules/preprocessing.html\n",
      "Please also refer to the documentation for alternative solver options:\n",
      "    https://scikit-learn.org/stable/modules/linear_model.html#logistic-regression\n",
      "  n_iter_i = _check_optimize_result(\n"
     ]
    }
   ],
   "source": [
    "LR_clf = LogisticRegression()\n",
    "LR_clf.fit(data_train_clean, label_train.values.ravel())\n",
    "LR_pred = LR_clf.predict(data_test_clean)\n",
    "\n",
    "LR_acc = accuracy_score(label_test, LR_pred)\n",
    "LR_cnf = confusion_matrix(label_test, LR_pred)\n",
    "print('Accuracy:', LR_acc)\n",
    "print('Confusion Matrix:')\n",
    "print(LR_cnf)"
   ],
   "metadata": {
    "collapsed": false,
    "pycharm": {
     "name": "#%%\n"
    }
   }
  }
 ],
 "metadata": {
  "kernelspec": {
   "display_name": "Python 3",
   "language": "python",
   "name": "python3"
  },
  "language_info": {
   "codemirror_mode": {
    "name": "ipython",
    "version": 2
   },
   "file_extension": ".py",
   "mimetype": "text/x-python",
   "name": "python",
   "nbconvert_exporter": "python",
   "pygments_lexer": "ipython2",
   "version": "2.7.6"
  }
 },
 "nbformat": 4,
 "nbformat_minor": 0
}