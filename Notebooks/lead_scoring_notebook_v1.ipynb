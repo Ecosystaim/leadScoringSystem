{
 "cells": [
  {
   "cell_type": "code",
   "execution_count": 20,
   "outputs": [],
   "source": [
    "import requests\n",
    "import boto3\n",
    "import mlflow\n",
    "from mlflow import pyfunc as ml_pyfunc\n",
    "import pandas as pd\n",
    "import numpy as np\n",
    "import statsmodels.api as sm\n",
    "from sklearn.ensemble import RandomForestClassifier\n",
    "from sklearn.model_selection import train_test_split\n",
    "from sklearn.preprocessing import StandardScaler\n",
    "from sklearn.linear_model import LogisticRegression\n",
    "from sklearn.feature_selection import RFE\n",
    "from sklearn import metrics\n",
    "\n",
    "## Import dataset\n",
    "leads_dataset = pd.read_csv('synthetic_leads.csv')\n",
    "leads_dataset.columns = map(str.lower, leads_dataset.columns)"
   ],
   "metadata": {
    "collapsed": false,
    "pycharm": {
     "name": "#%%\n"
    }
   }
  },
  {
   "cell_type": "code",
   "execution_count": 21,
   "outputs": [],
   "source": [
    "# Create data pre-processing steps before plugging into model\n",
    "leads_categorical_columns = ['lead_source',\n",
    "                             'country',\n",
    "                             'gender',\n",
    "                             'education_level',\n",
    "                             'occupation',\n",
    "                             'industry',\n",
    "                             'initial_response',\n",
    "                             'general_knowledge',\n",
    "                             'business_knowledge',\n",
    "                             'company_size',\n",
    "                             'lead_quality']\n",
    "\n",
    "leads_numeric_columns = ['age',\n",
    "                         'income',\n",
    "                         'total_calls_attended',\n",
    "                         'total_meetings_attended',\n",
    "                         'company_estimated_revenue',]\n",
    "\n",
    "leads_response_columns = ['lead_score']"
   ],
   "metadata": {
    "collapsed": false,
    "pycharm": {
     "name": "#%%\n"
    }
   }
  },
  {
   "cell_type": "code",
   "execution_count": 22,
   "outputs": [
    {
     "data": {
      "text/plain": "     lead_source    country  age  gender education_level   occupation   \n7072       OTHER     Canada   39   OTHER             PhD     EMPLOYEE  \\\n4141        PAID        USA   51   OTHER        BACHELOR  BUSINESSMAN   \n6227       OTHER  Australia   38  FEMALE         COLLEGE     EMPLOYEE   \n9804       OTHER     France   37   OTHER        BACHELOR   UNEMPLOYED   \n7930       OTHER   Pakistan   28   OTHER          MASTER        OTHER   \n\n      industry  income initial_response do_not_contact  total_calls_attended   \n7072  SERVICES   99000         POSITIVE             No                     4  \\\n4141    RETAIL  153000         POSITIVE             No                     3   \n6227    RETAIL   93000          NEUTRAL             No                     3   \n9804   FINANCE   73000         NEGATIVE            Yes                     1   \n7930   FINANCE   87000         NEGATIVE            Yes                     2   \n\n      total_meetings_attended general_knowledge business_knowledge   \n7072                        2          ADVANCED           ADVANCED  \\\n4141                        3          ADVANCED       INTERMEDIATE   \n6227                        2          ADVANCED       INTERMEDIATE   \n9804                        0            EXPERT              BASIC   \n7930                        0            EXPERT             NOVICE   \n\n     company_size  company_estimated_revenue lead_quality  \n7072       MEDIUM                    2654000          HOT  \n4141       MEDIUM                    2101000          HOT  \n6227       MEDIUM                    1605000         WARM  \n9804        SMALL                     744000         COLD  \n7930        SMALL                     619000         COLD  ",
      "text/html": "<div>\n<style scoped>\n    .dataframe tbody tr th:only-of-type {\n        vertical-align: middle;\n    }\n\n    .dataframe tbody tr th {\n        vertical-align: top;\n    }\n\n    .dataframe thead th {\n        text-align: right;\n    }\n</style>\n<table border=\"1\" class=\"dataframe\">\n  <thead>\n    <tr style=\"text-align: right;\">\n      <th></th>\n      <th>lead_source</th>\n      <th>country</th>\n      <th>age</th>\n      <th>gender</th>\n      <th>education_level</th>\n      <th>occupation</th>\n      <th>industry</th>\n      <th>income</th>\n      <th>initial_response</th>\n      <th>do_not_contact</th>\n      <th>total_calls_attended</th>\n      <th>total_meetings_attended</th>\n      <th>general_knowledge</th>\n      <th>business_knowledge</th>\n      <th>company_size</th>\n      <th>company_estimated_revenue</th>\n      <th>lead_quality</th>\n    </tr>\n  </thead>\n  <tbody>\n    <tr>\n      <th>7072</th>\n      <td>OTHER</td>\n      <td>Canada</td>\n      <td>39</td>\n      <td>OTHER</td>\n      <td>PhD</td>\n      <td>EMPLOYEE</td>\n      <td>SERVICES</td>\n      <td>99000</td>\n      <td>POSITIVE</td>\n      <td>No</td>\n      <td>4</td>\n      <td>2</td>\n      <td>ADVANCED</td>\n      <td>ADVANCED</td>\n      <td>MEDIUM</td>\n      <td>2654000</td>\n      <td>HOT</td>\n    </tr>\n    <tr>\n      <th>4141</th>\n      <td>PAID</td>\n      <td>USA</td>\n      <td>51</td>\n      <td>OTHER</td>\n      <td>BACHELOR</td>\n      <td>BUSINESSMAN</td>\n      <td>RETAIL</td>\n      <td>153000</td>\n      <td>POSITIVE</td>\n      <td>No</td>\n      <td>3</td>\n      <td>3</td>\n      <td>ADVANCED</td>\n      <td>INTERMEDIATE</td>\n      <td>MEDIUM</td>\n      <td>2101000</td>\n      <td>HOT</td>\n    </tr>\n    <tr>\n      <th>6227</th>\n      <td>OTHER</td>\n      <td>Australia</td>\n      <td>38</td>\n      <td>FEMALE</td>\n      <td>COLLEGE</td>\n      <td>EMPLOYEE</td>\n      <td>RETAIL</td>\n      <td>93000</td>\n      <td>NEUTRAL</td>\n      <td>No</td>\n      <td>3</td>\n      <td>2</td>\n      <td>ADVANCED</td>\n      <td>INTERMEDIATE</td>\n      <td>MEDIUM</td>\n      <td>1605000</td>\n      <td>WARM</td>\n    </tr>\n    <tr>\n      <th>9804</th>\n      <td>OTHER</td>\n      <td>France</td>\n      <td>37</td>\n      <td>OTHER</td>\n      <td>BACHELOR</td>\n      <td>UNEMPLOYED</td>\n      <td>FINANCE</td>\n      <td>73000</td>\n      <td>NEGATIVE</td>\n      <td>Yes</td>\n      <td>1</td>\n      <td>0</td>\n      <td>EXPERT</td>\n      <td>BASIC</td>\n      <td>SMALL</td>\n      <td>744000</td>\n      <td>COLD</td>\n    </tr>\n    <tr>\n      <th>7930</th>\n      <td>OTHER</td>\n      <td>Pakistan</td>\n      <td>28</td>\n      <td>OTHER</td>\n      <td>MASTER</td>\n      <td>OTHER</td>\n      <td>FINANCE</td>\n      <td>87000</td>\n      <td>NEGATIVE</td>\n      <td>Yes</td>\n      <td>2</td>\n      <td>0</td>\n      <td>EXPERT</td>\n      <td>NOVICE</td>\n      <td>SMALL</td>\n      <td>619000</td>\n      <td>COLD</td>\n    </tr>\n  </tbody>\n</table>\n</div>"
     },
     "execution_count": 22,
     "metadata": {},
     "output_type": "execute_result"
    }
   ],
   "source": [
    "#split data for training, remove extras\n",
    "\n",
    "leads_x = leads_dataset.drop(leads_response_columns, axis=1)\n",
    "leads_y = leads_dataset[leads_response_columns]\n",
    "\n",
    "leads_x_train, leads_x_test, leads_y_train, leads_y_test = train_test_split(leads_x,\n",
    "                                                                            leads_y,\n",
    "                                                                            train_size=0.7,\n",
    "                                                                            test_size=0.3,\n",
    "                                                                            random_state=5050)\n",
    "leads_x_train.head()"
   ],
   "metadata": {
    "collapsed": false,
    "pycharm": {
     "name": "#%%\n"
    }
   }
  },
  {
   "cell_type": "code",
   "execution_count": 23,
   "outputs": [],
   "source": [
    "scaler = StandardScaler()\n",
    "scaler = scaler.fit(leads_x_train[leads_numeric_columns])"
   ],
   "metadata": {
    "collapsed": false,
    "pycharm": {
     "name": "#%%\n"
    }
   }
  },
  {
   "cell_type": "code",
   "execution_count": 24,
   "outputs": [],
   "source": [
    "def pre_process_leads_data(df,\n",
    "                           numeric_columns,\n",
    "                           categorical_columns,\n",
    "                           fitted_scaler,\n",
    "                           train_df_columns = None):\n",
    "    ## create new df with selected columns\n",
    "    df.columns = map(str.lower, df.columns)\n",
    "    _df = df[list(numeric_columns + categorical_columns)].copy()\n",
    "\n",
    "    ## scale the numeric columns with the pre-built scaler\n",
    "    _df[numeric_columns] = fitted_scaler.transform(_df[numeric_columns])\n",
    "\n",
    "    # First, make categorical text lowercase\n",
    "    _df[categorical_columns] = _df[categorical_columns].apply(lambda x: x.str.lower())\n",
    "    # Next, create one-hot-encoded variables, add to dataframe, drop old columns\n",
    "    _df_dummies = pd.get_dummies(_df[categorical_columns], drop_first=True)\n",
    "    _df = pd.concat([_df, _df_dummies], axis=1)\n",
    "    _df.drop(categorical_columns, axis=1, inplace = True)\n",
    "\n",
    "    if train_df_columns:\n",
    "        _df = _df.reindex(columns=train_df_columns, fill_value=0)\n",
    "\n",
    "    return _df"
   ],
   "metadata": {
    "collapsed": false,
    "pycharm": {
     "name": "#%%\n"
    }
   }
  },
  {
   "cell_type": "code",
   "execution_count": 25,
   "outputs": [],
   "source": [
    "leads_x_train_clean = pre_process_leads_data(df = leads_x_train,\n",
    "                                            numeric_columns = leads_numeric_columns,\n",
    "                                            categorical_columns = leads_categorical_columns,\n",
    "                                            fitted_scaler = scaler)\n",
    "\n",
    "leads_x_test_clean = pre_process_leads_data(df = leads_x_test,\n",
    "                                           numeric_columns = leads_numeric_columns,\n",
    "                                           categorical_columns = leads_categorical_columns,\n",
    "                                           fitted_scaler = scaler,\n",
    "                                           train_df_columns = leads_x_train_clean.columns.tolist())"
   ],
   "metadata": {
    "collapsed": false,
    "pycharm": {
     "name": "#%%\n"
    }
   }
  },
  {
   "cell_type": "code",
   "execution_count": 28,
   "outputs": [
    {
     "data": {
      "text/plain": "           age    income  total_calls_attended  total_meetings_attended   \n7072 -0.143605 -0.280340              0.135095                 0.227912  \\\n4141  1.093861  0.902358             -0.423809                 1.145328   \n6227 -0.246727 -0.411751             -0.423809                 0.227912   \n9804 -0.349849 -0.849787             -1.541618                -1.606919   \n7930 -1.277948 -0.543162             -0.982714                -1.606919   \n\n      company_estimated_revenue  lead_source_organic  lead_source_other   \n7072                  -0.515709                False               True  \\\n4141                  -0.693591                False              False   \n6227                  -0.853138                False               True   \n9804                  -1.130094                False               True   \n7930                  -1.170302                False               True   \n\n      lead_source_paid  lead_source_referral  country_brazil  ...   \n7072             False                 False           False  ...  \\\n4141              True                 False           False  ...   \n6227             False                 False           False  ...   \n9804             False                 False           False  ...   \n7930             False                 False           False  ...   \n\n      general_knowledge_intermediate  general_knowledge_novice   \n7072                           False                     False  \\\n4141                           False                     False   \n6227                           False                     False   \n9804                           False                     False   \n7930                           False                     False   \n\n      business_knowledge_basic  business_knowledge_expert   \n7072                     False                      False  \\\n4141                     False                      False   \n6227                     False                      False   \n9804                      True                      False   \n7930                     False                      False   \n\n      business_knowledge_intermediate  business_knowledge_novice   \n7072                            False                      False  \\\n4141                             True                      False   \n6227                             True                      False   \n9804                            False                      False   \n7930                            False                       True   \n\n      company_size_medium  company_size_small  lead_quality_hot   \n7072                 True               False              True  \\\n4141                 True               False              True   \n6227                 True               False             False   \n9804                False                True             False   \n7930                False                True             False   \n\n      lead_quality_warm  \n7072              False  \n4141              False  \n6227               True  \n9804              False  \n7930              False  \n\n[5 rows x 49 columns]",
      "text/html": "<div>\n<style scoped>\n    .dataframe tbody tr th:only-of-type {\n        vertical-align: middle;\n    }\n\n    .dataframe tbody tr th {\n        vertical-align: top;\n    }\n\n    .dataframe thead th {\n        text-align: right;\n    }\n</style>\n<table border=\"1\" class=\"dataframe\">\n  <thead>\n    <tr style=\"text-align: right;\">\n      <th></th>\n      <th>age</th>\n      <th>income</th>\n      <th>total_calls_attended</th>\n      <th>total_meetings_attended</th>\n      <th>company_estimated_revenue</th>\n      <th>lead_source_organic</th>\n      <th>lead_source_other</th>\n      <th>lead_source_paid</th>\n      <th>lead_source_referral</th>\n      <th>country_brazil</th>\n      <th>...</th>\n      <th>general_knowledge_intermediate</th>\n      <th>general_knowledge_novice</th>\n      <th>business_knowledge_basic</th>\n      <th>business_knowledge_expert</th>\n      <th>business_knowledge_intermediate</th>\n      <th>business_knowledge_novice</th>\n      <th>company_size_medium</th>\n      <th>company_size_small</th>\n      <th>lead_quality_hot</th>\n      <th>lead_quality_warm</th>\n    </tr>\n  </thead>\n  <tbody>\n    <tr>\n      <th>7072</th>\n      <td>-0.143605</td>\n      <td>-0.280340</td>\n      <td>0.135095</td>\n      <td>0.227912</td>\n      <td>-0.515709</td>\n      <td>False</td>\n      <td>True</td>\n      <td>False</td>\n      <td>False</td>\n      <td>False</td>\n      <td>...</td>\n      <td>False</td>\n      <td>False</td>\n      <td>False</td>\n      <td>False</td>\n      <td>False</td>\n      <td>False</td>\n      <td>True</td>\n      <td>False</td>\n      <td>True</td>\n      <td>False</td>\n    </tr>\n    <tr>\n      <th>4141</th>\n      <td>1.093861</td>\n      <td>0.902358</td>\n      <td>-0.423809</td>\n      <td>1.145328</td>\n      <td>-0.693591</td>\n      <td>False</td>\n      <td>False</td>\n      <td>True</td>\n      <td>False</td>\n      <td>False</td>\n      <td>...</td>\n      <td>False</td>\n      <td>False</td>\n      <td>False</td>\n      <td>False</td>\n      <td>True</td>\n      <td>False</td>\n      <td>True</td>\n      <td>False</td>\n      <td>True</td>\n      <td>False</td>\n    </tr>\n    <tr>\n      <th>6227</th>\n      <td>-0.246727</td>\n      <td>-0.411751</td>\n      <td>-0.423809</td>\n      <td>0.227912</td>\n      <td>-0.853138</td>\n      <td>False</td>\n      <td>True</td>\n      <td>False</td>\n      <td>False</td>\n      <td>False</td>\n      <td>...</td>\n      <td>False</td>\n      <td>False</td>\n      <td>False</td>\n      <td>False</td>\n      <td>True</td>\n      <td>False</td>\n      <td>True</td>\n      <td>False</td>\n      <td>False</td>\n      <td>True</td>\n    </tr>\n    <tr>\n      <th>9804</th>\n      <td>-0.349849</td>\n      <td>-0.849787</td>\n      <td>-1.541618</td>\n      <td>-1.606919</td>\n      <td>-1.130094</td>\n      <td>False</td>\n      <td>True</td>\n      <td>False</td>\n      <td>False</td>\n      <td>False</td>\n      <td>...</td>\n      <td>False</td>\n      <td>False</td>\n      <td>True</td>\n      <td>False</td>\n      <td>False</td>\n      <td>False</td>\n      <td>False</td>\n      <td>True</td>\n      <td>False</td>\n      <td>False</td>\n    </tr>\n    <tr>\n      <th>7930</th>\n      <td>-1.277948</td>\n      <td>-0.543162</td>\n      <td>-0.982714</td>\n      <td>-1.606919</td>\n      <td>-1.170302</td>\n      <td>False</td>\n      <td>True</td>\n      <td>False</td>\n      <td>False</td>\n      <td>False</td>\n      <td>...</td>\n      <td>False</td>\n      <td>False</td>\n      <td>False</td>\n      <td>False</td>\n      <td>False</td>\n      <td>True</td>\n      <td>False</td>\n      <td>True</td>\n      <td>False</td>\n      <td>False</td>\n    </tr>\n  </tbody>\n</table>\n<p>5 rows × 49 columns</p>\n</div>"
     },
     "execution_count": 28,
     "metadata": {},
     "output_type": "execute_result"
    }
   ],
   "source": [
    "leads_x_train_clean.head()"
   ],
   "metadata": {
    "collapsed": false,
    "pycharm": {
     "name": "#%%\n"
    }
   }
  },
  {
   "cell_type": "code",
   "execution_count": 31,
   "outputs": [
    {
     "ename": "ValueError",
     "evalue": "Pandas data cast to numpy dtype of object. Check apiInput data with np.asarray(data). The types seen werelead_score    float64\ndtype: object and const                              float64\nage                                float64\nincome                             float64\ntotal_calls_attended               float64\ntotal_meetings_attended            float64\ncompany_estimated_revenue          float64\nlead_source_organic                   bool\nlead_source_other                     bool\nlead_source_paid                      bool\nlead_source_referral                  bool\ncountry_brazil                        bool\ncountry_canada                        bool\ncountry_china                         bool\ncountry_france                        bool\ncountry_germany                       bool\ncountry_india                         bool\ncountry_japan                         bool\ncountry_pakistan                      bool\ncountry_uk                            bool\ncountry_usa                           bool\ngender_male                           bool\ngender_other                          bool\neducation_level_college               bool\neducation_level_high school           bool\neducation_level_master                bool\neducation_level_phd                   bool\noccupation_employee                   bool\noccupation_other                      bool\noccupation_retired                    bool\noccupation_self-employed              bool\noccupation_unemployed                 bool\nindustry_healthcare                   bool\nindustry_manufacturing                bool\nindustry_retail                       bool\nindustry_services                     bool\nindustry_technology                   bool\ninitial_response_neutral              bool\ninitial_response_positive             bool\ngeneral_knowledge_basic               bool\ngeneral_knowledge_expert              bool\ngeneral_knowledge_intermediate        bool\ngeneral_knowledge_novice              bool\nbusiness_knowledge_basic              bool\nbusiness_knowledge_expert             bool\nbusiness_knowledge_intermediate       bool\nbusiness_knowledge_novice             bool\ncompany_size_medium                   bool\ncompany_size_small                    bool\nlead_quality_hot                      bool\nlead_quality_warm                     bool\ndtype: object. The data was\n      lead_score\n7072        52.0\n4141        93.0\n6227        74.0\n9804        42.0\n7930        18.0\n...          ...\n3153        87.0\n5491        65.0\n5748        55.0\n5271        63.0\n6497        74.0\n\n[7000 rows x 1 columns]\nand\n       const       age    income  total_calls_attended   \n6139    1.0 -0.246727 -0.433653              0.135095  \\\n1012    1.0  1.815716  1.822234              1.811809   \n1784    1.0  1.609471  1.077572              0.135095   \n9452    1.0 -1.174826 -0.280340             -1.541618   \n1329    1.0  1.815716  0.442420             -0.423809   \n...     ...       ...       ...                   ...   \n2597    1.0 -0.040483  1.756528              0.135095   \n8487    1.0 -2.206047 -0.981198             -0.982714   \n5036    1.0  0.268884 -0.433653             -0.423809   \n5687    1.0 -0.556093 -0.630769              0.135095   \n9026    1.0 -1.690437 -0.740278             -1.541618   \n\n      total_meetings_attended  company_estimated_revenue  lead_source_organic   \n6139                 0.227912                  -0.227495                False  \\\n1012                 0.227912                   1.606008                False   \n1784                 0.227912                   0.749087                False   \n9452                -1.606919                  -1.173841                False   \n1329                 0.227912                   1.406896                False   \n...                       ...                        ...                  ...   \n2597                 0.227912                   0.897375                False   \n8487                -1.606919                  -1.224342                 True   \n5036                 0.227912                  -0.610280                False   \n5687                 0.227912                   0.714347                False   \n9026                -1.606919                  -1.205686                False   \n\n      lead_source_other  lead_source_paid  lead_source_referral  ...   \n6139               True             False                 False  ...  \\\n1012              False              True                 False  ...   \n1784              False              True                 False  ...   \n9452              False             False                  True  ...   \n1329              False             False                  True  ...   \n...                 ...               ...                   ...  ...   \n2597              False              True                 False  ...   \n8487              False             False                 False  ...   \n5036              False              True                 False  ...   \n5687              False              True                 False  ...   \n9026              False              True                 False  ...   \n\n      general_knowledge_intermediate  general_knowledge_novice   \n6139                            True                     False  \\\n1012                           False                     False   \n1784                           False                     False   \n9452                           False                      True   \n1329                           False                     False   \n...                              ...                       ...   \n2597                           False                      True   \n8487                           False                     False   \n5036                            True                     False   \n5687                           False                      True   \n9026                           False                     False   \n\n      business_knowledge_basic  business_knowledge_expert   \n6139                     False                      False  \\\n1012                     False                      False   \n1784                     False                      False   \n9452                     False                      False   \n1329                     False                      False   \n...                        ...                        ...   \n2597                     False                      False   \n8487                     False                      False   \n5036                     False                      False   \n5687                     False                      False   \n9026                     False                       True   \n\n      business_knowledge_intermediate  business_knowledge_novice   \n6139                            False                      False  \\\n1012                            False                      False   \n1784                             True                      False   \n9452                            False                       True   \n1329                             True                      False   \n...                               ...                        ...   \n2597                             True                      False   \n8487                            False                       True   \n5036                             True                      False   \n5687                             True                      False   \n9026                            False                      False   \n\n      company_size_medium  company_size_small  lead_quality_hot   \n6139                 True               False             False  \\\n1012                 True               False              True   \n1784                 True               False              True   \n9452                False                True             False   \n1329                 True               False             False   \n...                   ...                 ...               ...   \n2597                 True               False              True   \n8487                False                True             False   \n5036                 True               False              True   \n5687                 True               False              True   \n9026                False                True             False   \n\n      lead_quality_warm  \n6139               True  \n1012              False  \n1784              False  \n9452              False  \n1329               True  \n...                 ...  \n2597              False  \n8487              False  \n5036              False  \n5687              False  \n9026              False  \n\n[3000 rows x 50 columns]\nbefore. After,\n[[52.]\n [93.]\n [74.]\n ...\n [55.]\n [63.]\n [74.]]\n[[1.0 -0.246727056978703 -0.43365269561013614 ... False False True]\n [1.0 1.8157155019548061 1.822233663850669 ... False True False]\n [1.0 1.6094712460614553 1.0775721471354518 ... False True False]\n ...\n [1.0 0.2688835827546743 -0.43365269561013614 ... False True False]\n [1.0 -0.5560934408187294 -0.6307689794465172 ... False True False]\n [1.0 -1.6904368482321595 -0.7402780260222844 ... True False False]].",
     "output_type": "error",
     "traceback": [
      "\u001B[1;31m---------------------------------------------------------------------------\u001B[0m",
      "\u001B[1;31mValueError\u001B[0m                                Traceback (most recent call last)",
      "Cell \u001B[1;32mIn[31], line 1\u001B[0m\n\u001B[1;32m----> 1\u001B[0m logm1 \u001B[38;5;241m=\u001B[39m \u001B[43msm\u001B[49m\u001B[38;5;241;43m.\u001B[39;49m\u001B[43mGLM\u001B[49m\u001B[43m(\u001B[49m\u001B[43mleads_y_train\u001B[49m\u001B[38;5;241;43m.\u001B[39;49m\u001B[43mastype\u001B[49m\u001B[43m(\u001B[49m\u001B[38;5;28;43mfloat\u001B[39;49m\u001B[43m)\u001B[49m\u001B[43m,\u001B[49m\u001B[43m(\u001B[49m\u001B[43msm\u001B[49m\u001B[38;5;241;43m.\u001B[39;49m\u001B[43madd_constant\u001B[49m\u001B[43m(\u001B[49m\u001B[43mleads_x_test_clean\u001B[49m\u001B[43m)\u001B[49m\u001B[43m)\u001B[49m\u001B[43m,\u001B[49m\u001B[43m \u001B[49m\u001B[43mfamily\u001B[49m\u001B[43m \u001B[49m\u001B[38;5;241;43m=\u001B[39;49m\u001B[43m \u001B[49m\u001B[43msm\u001B[49m\u001B[38;5;241;43m.\u001B[39;49m\u001B[43mfamilies\u001B[49m\u001B[38;5;241;43m.\u001B[39;49m\u001B[43mBinomial\u001B[49m\u001B[43m(\u001B[49m\u001B[43m)\u001B[49m\u001B[43m)\u001B[49m\n\u001B[0;32m      2\u001B[0m logm1\u001B[38;5;241m.\u001B[39mfit()\u001B[38;5;241m.\u001B[39msummary()\n",
      "File \u001B[1;32m~\\PycharmProjects\\leadScoringModel\\venv\\lib\\site-packages\\statsmodels\\genmod\\generalized_linear_model.py:316\u001B[0m, in \u001B[0;36mGLM.__init__\u001B[1;34m(self, endog, exog, family, offset, exposure, freq_weights, var_weights, missing, **kwargs)\u001B[0m\n\u001B[0;32m    313\u001B[0m \u001B[38;5;28mself\u001B[39m\u001B[38;5;241m.\u001B[39mfreq_weights \u001B[38;5;241m=\u001B[39m freq_weights\n\u001B[0;32m    314\u001B[0m \u001B[38;5;28mself\u001B[39m\u001B[38;5;241m.\u001B[39mvar_weights \u001B[38;5;241m=\u001B[39m var_weights\n\u001B[1;32m--> 316\u001B[0m \u001B[38;5;28msuper\u001B[39m(GLM, \u001B[38;5;28mself\u001B[39m)\u001B[38;5;241m.\u001B[39m\u001B[38;5;21m__init__\u001B[39m(endog, exog, missing\u001B[38;5;241m=\u001B[39mmissing,\n\u001B[0;32m    317\u001B[0m                           offset\u001B[38;5;241m=\u001B[39moffset, exposure\u001B[38;5;241m=\u001B[39mexposure,\n\u001B[0;32m    318\u001B[0m                           freq_weights\u001B[38;5;241m=\u001B[39mfreq_weights,\n\u001B[0;32m    319\u001B[0m                           var_weights\u001B[38;5;241m=\u001B[39mvar_weights, \u001B[38;5;241m*\u001B[39m\u001B[38;5;241m*\u001B[39mkwargs)\n\u001B[0;32m    320\u001B[0m \u001B[38;5;28mself\u001B[39m\u001B[38;5;241m.\u001B[39m_check_inputs(family, \u001B[38;5;28mself\u001B[39m\u001B[38;5;241m.\u001B[39moffset, \u001B[38;5;28mself\u001B[39m\u001B[38;5;241m.\u001B[39mexposure, \u001B[38;5;28mself\u001B[39m\u001B[38;5;241m.\u001B[39mendog,\n\u001B[0;32m    321\u001B[0m                    \u001B[38;5;28mself\u001B[39m\u001B[38;5;241m.\u001B[39mfreq_weights, \u001B[38;5;28mself\u001B[39m\u001B[38;5;241m.\u001B[39mvar_weights)\n\u001B[0;32m    322\u001B[0m \u001B[38;5;28;01mif\u001B[39;00m offset \u001B[38;5;129;01mis\u001B[39;00m \u001B[38;5;28;01mNone\u001B[39;00m:\n",
      "File \u001B[1;32m~\\PycharmProjects\\leadScoringModel\\venv\\lib\\site-packages\\statsmodels\\base\\model.py:267\u001B[0m, in \u001B[0;36mLikelihoodModel.__init__\u001B[1;34m(self, endog, exog, **kwargs)\u001B[0m\n\u001B[0;32m    266\u001B[0m \u001B[38;5;28;01mdef\u001B[39;00m \u001B[38;5;21m__init__\u001B[39m(\u001B[38;5;28mself\u001B[39m, endog, exog\u001B[38;5;241m=\u001B[39m\u001B[38;5;28;01mNone\u001B[39;00m, \u001B[38;5;241m*\u001B[39m\u001B[38;5;241m*\u001B[39mkwargs):\n\u001B[1;32m--> 267\u001B[0m     \u001B[38;5;28msuper\u001B[39m()\u001B[38;5;241m.\u001B[39m\u001B[38;5;21m__init__\u001B[39m(endog, exog, \u001B[38;5;241m*\u001B[39m\u001B[38;5;241m*\u001B[39mkwargs)\n\u001B[0;32m    268\u001B[0m     \u001B[38;5;28mself\u001B[39m\u001B[38;5;241m.\u001B[39minitialize()\n",
      "File \u001B[1;32m~\\PycharmProjects\\leadScoringModel\\venv\\lib\\site-packages\\statsmodels\\base\\model.py:92\u001B[0m, in \u001B[0;36mModel.__init__\u001B[1;34m(self, endog, exog, **kwargs)\u001B[0m\n\u001B[0;32m     90\u001B[0m missing \u001B[38;5;241m=\u001B[39m kwargs\u001B[38;5;241m.\u001B[39mpop(\u001B[38;5;124m'\u001B[39m\u001B[38;5;124mmissing\u001B[39m\u001B[38;5;124m'\u001B[39m, \u001B[38;5;124m'\u001B[39m\u001B[38;5;124mnone\u001B[39m\u001B[38;5;124m'\u001B[39m)\n\u001B[0;32m     91\u001B[0m hasconst \u001B[38;5;241m=\u001B[39m kwargs\u001B[38;5;241m.\u001B[39mpop(\u001B[38;5;124m'\u001B[39m\u001B[38;5;124mhasconst\u001B[39m\u001B[38;5;124m'\u001B[39m, \u001B[38;5;28;01mNone\u001B[39;00m)\n\u001B[1;32m---> 92\u001B[0m \u001B[38;5;28mself\u001B[39m\u001B[38;5;241m.\u001B[39mdata \u001B[38;5;241m=\u001B[39m \u001B[38;5;28mself\u001B[39m\u001B[38;5;241m.\u001B[39m_handle_data(endog, exog, missing, hasconst,\n\u001B[0;32m     93\u001B[0m                               \u001B[38;5;241m*\u001B[39m\u001B[38;5;241m*\u001B[39mkwargs)\n\u001B[0;32m     94\u001B[0m \u001B[38;5;28mself\u001B[39m\u001B[38;5;241m.\u001B[39mk_constant \u001B[38;5;241m=\u001B[39m \u001B[38;5;28mself\u001B[39m\u001B[38;5;241m.\u001B[39mdata\u001B[38;5;241m.\u001B[39mk_constant\n\u001B[0;32m     95\u001B[0m \u001B[38;5;28mself\u001B[39m\u001B[38;5;241m.\u001B[39mexog \u001B[38;5;241m=\u001B[39m \u001B[38;5;28mself\u001B[39m\u001B[38;5;241m.\u001B[39mdata\u001B[38;5;241m.\u001B[39mexog\n",
      "File \u001B[1;32m~\\PycharmProjects\\leadScoringModel\\venv\\lib\\site-packages\\statsmodels\\base\\model.py:132\u001B[0m, in \u001B[0;36mModel._handle_data\u001B[1;34m(self, endog, exog, missing, hasconst, **kwargs)\u001B[0m\n\u001B[0;32m    131\u001B[0m \u001B[38;5;28;01mdef\u001B[39;00m \u001B[38;5;21m_handle_data\u001B[39m(\u001B[38;5;28mself\u001B[39m, endog, exog, missing, hasconst, \u001B[38;5;241m*\u001B[39m\u001B[38;5;241m*\u001B[39mkwargs):\n\u001B[1;32m--> 132\u001B[0m     data \u001B[38;5;241m=\u001B[39m handle_data(endog, exog, missing, hasconst, \u001B[38;5;241m*\u001B[39m\u001B[38;5;241m*\u001B[39mkwargs)\n\u001B[0;32m    133\u001B[0m     \u001B[38;5;66;03m# kwargs arrays could have changed, easier to just attach here\u001B[39;00m\n\u001B[0;32m    134\u001B[0m     \u001B[38;5;28;01mfor\u001B[39;00m key \u001B[38;5;129;01min\u001B[39;00m kwargs:\n",
      "File \u001B[1;32m~\\PycharmProjects\\leadScoringModel\\venv\\lib\\site-packages\\statsmodels\\base\\data.py:700\u001B[0m, in \u001B[0;36mhandle_data\u001B[1;34m(endog, exog, missing, hasconst, **kwargs)\u001B[0m\n\u001B[0;32m    697\u001B[0m     exog \u001B[38;5;241m=\u001B[39m np\u001B[38;5;241m.\u001B[39masarray(exog)\n\u001B[0;32m    699\u001B[0m klass \u001B[38;5;241m=\u001B[39m handle_data_class_factory(endog, exog)\n\u001B[1;32m--> 700\u001B[0m \u001B[38;5;28;01mreturn\u001B[39;00m klass(endog, exog\u001B[38;5;241m=\u001B[39mexog, missing\u001B[38;5;241m=\u001B[39mmissing, hasconst\u001B[38;5;241m=\u001B[39mhasconst,\n\u001B[0;32m    701\u001B[0m              \u001B[38;5;241m*\u001B[39m\u001B[38;5;241m*\u001B[39mkwargs)\n",
      "File \u001B[1;32m~\\PycharmProjects\\leadScoringModel\\venv\\lib\\site-packages\\statsmodels\\base\\data.py:84\u001B[0m, in \u001B[0;36mModelData.__init__\u001B[1;34m(self, endog, exog, missing, hasconst, **kwargs)\u001B[0m\n\u001B[0;32m     82\u001B[0m     \u001B[38;5;28mself\u001B[39m\u001B[38;5;241m.\u001B[39morig_endog \u001B[38;5;241m=\u001B[39m endog\n\u001B[0;32m     83\u001B[0m     \u001B[38;5;28mself\u001B[39m\u001B[38;5;241m.\u001B[39morig_exog \u001B[38;5;241m=\u001B[39m exog\n\u001B[1;32m---> 84\u001B[0m     \u001B[38;5;28mself\u001B[39m\u001B[38;5;241m.\u001B[39mendog, \u001B[38;5;28mself\u001B[39m\u001B[38;5;241m.\u001B[39mexog \u001B[38;5;241m=\u001B[39m \u001B[38;5;28;43mself\u001B[39;49m\u001B[38;5;241;43m.\u001B[39;49m\u001B[43m_convert_endog_exog\u001B[49m\u001B[43m(\u001B[49m\u001B[43mendog\u001B[49m\u001B[43m,\u001B[49m\u001B[43m \u001B[49m\u001B[43mexog\u001B[49m\u001B[43m)\u001B[49m\n\u001B[0;32m     86\u001B[0m \u001B[38;5;28mself\u001B[39m\u001B[38;5;241m.\u001B[39mconst_idx \u001B[38;5;241m=\u001B[39m \u001B[38;5;28;01mNone\u001B[39;00m\n\u001B[0;32m     87\u001B[0m \u001B[38;5;28mself\u001B[39m\u001B[38;5;241m.\u001B[39mk_constant \u001B[38;5;241m=\u001B[39m \u001B[38;5;241m0\u001B[39m\n",
      "File \u001B[1;32m~\\PycharmProjects\\leadScoringModel\\venv\\lib\\site-packages\\statsmodels\\base\\data.py:530\u001B[0m, in \u001B[0;36mPandasData._convert_endog_exog\u001B[1;34m(self, endog, exog)\u001B[0m\n\u001B[0;32m    528\u001B[0m     \u001B[38;5;28;01melse\u001B[39;00m:\n\u001B[0;32m    529\u001B[0m         exog_dtype \u001B[38;5;241m=\u001B[39m \u001B[38;5;28;01mNone\u001B[39;00m\n\u001B[1;32m--> 530\u001B[0m     \u001B[38;5;28;01mraise\u001B[39;00m \u001B[38;5;167;01mValueError\u001B[39;00m(\n\u001B[0;32m    531\u001B[0m         \u001B[38;5;124m\"\u001B[39m\u001B[38;5;124mPandas data cast to numpy dtype of object. Check apiInput data \u001B[39m\u001B[38;5;124m\"\u001B[39m\n\u001B[0;32m    532\u001B[0m         \u001B[38;5;124m\"\u001B[39m\u001B[38;5;124mwith np.asarray(data). The types seen were\u001B[39m\u001B[38;5;124m\"\u001B[39m\n\u001B[0;32m    533\u001B[0m         \u001B[38;5;124mf\u001B[39m\u001B[38;5;124m\"\u001B[39m\u001B[38;5;132;01m{\u001B[39;00mendog_dtype\u001B[38;5;132;01m}\u001B[39;00m\u001B[38;5;124m and \u001B[39m\u001B[38;5;132;01m{\u001B[39;00mexog_dtype\u001B[38;5;132;01m}\u001B[39;00m\u001B[38;5;124m. The data was\u001B[39m\u001B[38;5;130;01m\\n\u001B[39;00m\u001B[38;5;124m\"\u001B[39m\n\u001B[0;32m    534\u001B[0m         \u001B[38;5;124mf\u001B[39m\u001B[38;5;124m\"\u001B[39m\u001B[38;5;132;01m{\u001B[39;00morig_endog\u001B[38;5;132;01m}\u001B[39;00m\u001B[38;5;130;01m\\n\u001B[39;00m\u001B[38;5;124mand\u001B[39m\u001B[38;5;130;01m\\n\u001B[39;00m\u001B[38;5;124m \u001B[39m\u001B[38;5;132;01m{\u001B[39;00morig_exog\u001B[38;5;132;01m}\u001B[39;00m\u001B[38;5;130;01m\\n\u001B[39;00m\u001B[38;5;124mbefore. After,\u001B[39m\u001B[38;5;130;01m\\n\u001B[39;00m\u001B[38;5;132;01m{\u001B[39;00mendog\u001B[38;5;132;01m}\u001B[39;00m\u001B[38;5;130;01m\\n\u001B[39;00m\u001B[38;5;132;01m{\u001B[39;00mexog\u001B[38;5;132;01m}\u001B[39;00m\u001B[38;5;124m.\u001B[39m\u001B[38;5;124m\"\u001B[39m\n\u001B[0;32m    535\u001B[0m     )\n\u001B[0;32m    536\u001B[0m \u001B[38;5;28;01mreturn\u001B[39;00m \u001B[38;5;28msuper\u001B[39m(PandasData, \u001B[38;5;28mself\u001B[39m)\u001B[38;5;241m.\u001B[39m_convert_endog_exog(endog, exog)\n",
      "\u001B[1;31mValueError\u001B[0m: Pandas data cast to numpy dtype of object. Check apiInput data with np.asarray(data). The types seen werelead_score    float64\ndtype: object and const                              float64\nage                                float64\nincome                             float64\ntotal_calls_attended               float64\ntotal_meetings_attended            float64\ncompany_estimated_revenue          float64\nlead_source_organic                   bool\nlead_source_other                     bool\nlead_source_paid                      bool\nlead_source_referral                  bool\ncountry_brazil                        bool\ncountry_canada                        bool\ncountry_china                         bool\ncountry_france                        bool\ncountry_germany                       bool\ncountry_india                         bool\ncountry_japan                         bool\ncountry_pakistan                      bool\ncountry_uk                            bool\ncountry_usa                           bool\ngender_male                           bool\ngender_other                          bool\neducation_level_college               bool\neducation_level_high school           bool\neducation_level_master                bool\neducation_level_phd                   bool\noccupation_employee                   bool\noccupation_other                      bool\noccupation_retired                    bool\noccupation_self-employed              bool\noccupation_unemployed                 bool\nindustry_healthcare                   bool\nindustry_manufacturing                bool\nindustry_retail                       bool\nindustry_services                     bool\nindustry_technology                   bool\ninitial_response_neutral              bool\ninitial_response_positive             bool\ngeneral_knowledge_basic               bool\ngeneral_knowledge_expert              bool\ngeneral_knowledge_intermediate        bool\ngeneral_knowledge_novice              bool\nbusiness_knowledge_basic              bool\nbusiness_knowledge_expert             bool\nbusiness_knowledge_intermediate       bool\nbusiness_knowledge_novice             bool\ncompany_size_medium                   bool\ncompany_size_small                    bool\nlead_quality_hot                      bool\nlead_quality_warm                     bool\ndtype: object. The data was\n      lead_score\n7072        52.0\n4141        93.0\n6227        74.0\n9804        42.0\n7930        18.0\n...          ...\n3153        87.0\n5491        65.0\n5748        55.0\n5271        63.0\n6497        74.0\n\n[7000 rows x 1 columns]\nand\n       const       age    income  total_calls_attended   \n6139    1.0 -0.246727 -0.433653              0.135095  \\\n1012    1.0  1.815716  1.822234              1.811809   \n1784    1.0  1.609471  1.077572              0.135095   \n9452    1.0 -1.174826 -0.280340             -1.541618   \n1329    1.0  1.815716  0.442420             -0.423809   \n...     ...       ...       ...                   ...   \n2597    1.0 -0.040483  1.756528              0.135095   \n8487    1.0 -2.206047 -0.981198             -0.982714   \n5036    1.0  0.268884 -0.433653             -0.423809   \n5687    1.0 -0.556093 -0.630769              0.135095   \n9026    1.0 -1.690437 -0.740278             -1.541618   \n\n      total_meetings_attended  company_estimated_revenue  lead_source_organic   \n6139                 0.227912                  -0.227495                False  \\\n1012                 0.227912                   1.606008                False   \n1784                 0.227912                   0.749087                False   \n9452                -1.606919                  -1.173841                False   \n1329                 0.227912                   1.406896                False   \n...                       ...                        ...                  ...   \n2597                 0.227912                   0.897375                False   \n8487                -1.606919                  -1.224342                 True   \n5036                 0.227912                  -0.610280                False   \n5687                 0.227912                   0.714347                False   \n9026                -1.606919                  -1.205686                False   \n\n      lead_source_other  lead_source_paid  lead_source_referral  ...   \n6139               True             False                 False  ...  \\\n1012              False              True                 False  ...   \n1784              False              True                 False  ...   \n9452              False             False                  True  ...   \n1329              False             False                  True  ...   \n...                 ...               ...                   ...  ...   \n2597              False              True                 False  ...   \n8487              False             False                 False  ...   \n5036              False              True                 False  ...   \n5687              False              True                 False  ...   \n9026              False              True                 False  ...   \n\n      general_knowledge_intermediate  general_knowledge_novice   \n6139                            True                     False  \\\n1012                           False                     False   \n1784                           False                     False   \n9452                           False                      True   \n1329                           False                     False   \n...                              ...                       ...   \n2597                           False                      True   \n8487                           False                     False   \n5036                            True                     False   \n5687                           False                      True   \n9026                           False                     False   \n\n      business_knowledge_basic  business_knowledge_expert   \n6139                     False                      False  \\\n1012                     False                      False   \n1784                     False                      False   \n9452                     False                      False   \n1329                     False                      False   \n...                        ...                        ...   \n2597                     False                      False   \n8487                     False                      False   \n5036                     False                      False   \n5687                     False                      False   \n9026                     False                       True   \n\n      business_knowledge_intermediate  business_knowledge_novice   \n6139                            False                      False  \\\n1012                            False                      False   \n1784                             True                      False   \n9452                            False                       True   \n1329                             True                      False   \n...                               ...                        ...   \n2597                             True                      False   \n8487                            False                       True   \n5036                             True                      False   \n5687                             True                      False   \n9026                            False                      False   \n\n      company_size_medium  company_size_small  lead_quality_hot   \n6139                 True               False             False  \\\n1012                 True               False              True   \n1784                 True               False              True   \n9452                False                True             False   \n1329                 True               False             False   \n...                   ...                 ...               ...   \n2597                 True               False              True   \n8487                False                True             False   \n5036                 True               False              True   \n5687                 True               False              True   \n9026                False                True             False   \n\n      lead_quality_warm  \n6139               True  \n1012              False  \n1784              False  \n9452              False  \n1329               True  \n...                 ...  \n2597              False  \n8487              False  \n5036              False  \n5687              False  \n9026              False  \n\n[3000 rows x 50 columns]\nbefore. After,\n[[52.]\n [93.]\n [74.]\n ...\n [55.]\n [63.]\n [74.]]\n[[1.0 -0.246727056978703 -0.43365269561013614 ... False False True]\n [1.0 1.8157155019548061 1.822233663850669 ... False True False]\n [1.0 1.6094712460614553 1.0775721471354518 ... False True False]\n ...\n [1.0 0.2688835827546743 -0.43365269561013614 ... False True False]\n [1.0 -0.5560934408187294 -0.6307689794465172 ... False True False]\n [1.0 -1.6904368482321595 -0.7402780260222844 ... True False False]]."
     ]
    }
   ],
   "source": [
    "logm1 = sm.GLM(leads_y_train.astype(float),(sm.add_constant(leads_x_test_clean)), family = sm.families.Binomial())\n",
    "logm1.fit().summary()"
   ],
   "metadata": {
    "collapsed": false,
    "pycharm": {
     "name": "#%%\n"
    }
   }
  },
  {
   "cell_type": "code",
   "execution_count": 32,
   "outputs": [],
   "source": [
    "logreg = LogisticRegression()"
   ],
   "metadata": {
    "collapsed": false,
    "pycharm": {
     "name": "#%%\n"
    }
   }
  },
  {
   "cell_type": "code",
   "execution_count": 33,
   "outputs": [
    {
     "name": "stderr",
     "output_type": "stream",
     "text": [
      "C:\\Users\\hp\\PycharmProjects\\leadScoringModel\\venv\\lib\\site-packages\\sklearn\\utils\\validation.py:1143: DataConversionWarning: A column-vector y was passed when a 1d array was expected. Please change the shape of y to (n_samples, ), for example using ravel().\n",
      "  y = column_or_1d(y, warn=True)\n",
      "C:\\Users\\hp\\PycharmProjects\\leadScoringModel\\venv\\lib\\site-packages\\sklearn\\linear_model\\_logistic.py:458: ConvergenceWarning: lbfgs failed to converge (status=1):\n",
      "STOP: TOTAL NO. of ITERATIONS REACHED LIMIT.\n",
      "\n",
      "Increase the number of iterations (max_iter) or scale the data as shown in:\n",
      "    https://scikit-learn.org/stable/modules/preprocessing.html\n",
      "Please also refer to the documentation for alternative solver options:\n",
      "    https://scikit-learn.org/stable/modules/linear_model.html#logistic-regression\n",
      "  n_iter_i = _check_optimize_result(\n",
      "C:\\Users\\hp\\PycharmProjects\\leadScoringModel\\venv\\lib\\site-packages\\sklearn\\utils\\validation.py:1143: DataConversionWarning: A column-vector y was passed when a 1d array was expected. Please change the shape of y to (n_samples, ), for example using ravel().\n",
      "  y = column_or_1d(y, warn=True)\n",
      "C:\\Users\\hp\\PycharmProjects\\leadScoringModel\\venv\\lib\\site-packages\\sklearn\\linear_model\\_logistic.py:458: ConvergenceWarning: lbfgs failed to converge (status=1):\n",
      "STOP: TOTAL NO. of ITERATIONS REACHED LIMIT.\n",
      "\n",
      "Increase the number of iterations (max_iter) or scale the data as shown in:\n",
      "    https://scikit-learn.org/stable/modules/preprocessing.html\n",
      "Please also refer to the documentation for alternative solver options:\n",
      "    https://scikit-learn.org/stable/modules/linear_model.html#logistic-regression\n",
      "  n_iter_i = _check_optimize_result(\n",
      "C:\\Users\\hp\\PycharmProjects\\leadScoringModel\\venv\\lib\\site-packages\\sklearn\\utils\\validation.py:1143: DataConversionWarning: A column-vector y was passed when a 1d array was expected. Please change the shape of y to (n_samples, ), for example using ravel().\n",
      "  y = column_or_1d(y, warn=True)\n",
      "C:\\Users\\hp\\PycharmProjects\\leadScoringModel\\venv\\lib\\site-packages\\sklearn\\linear_model\\_logistic.py:458: ConvergenceWarning: lbfgs failed to converge (status=1):\n",
      "STOP: TOTAL NO. of ITERATIONS REACHED LIMIT.\n",
      "\n",
      "Increase the number of iterations (max_iter) or scale the data as shown in:\n",
      "    https://scikit-learn.org/stable/modules/preprocessing.html\n",
      "Please also refer to the documentation for alternative solver options:\n",
      "    https://scikit-learn.org/stable/modules/linear_model.html#logistic-regression\n",
      "  n_iter_i = _check_optimize_result(\n",
      "C:\\Users\\hp\\PycharmProjects\\leadScoringModel\\venv\\lib\\site-packages\\sklearn\\utils\\validation.py:1143: DataConversionWarning: A column-vector y was passed when a 1d array was expected. Please change the shape of y to (n_samples, ), for example using ravel().\n",
      "  y = column_or_1d(y, warn=True)\n",
      "C:\\Users\\hp\\PycharmProjects\\leadScoringModel\\venv\\lib\\site-packages\\sklearn\\linear_model\\_logistic.py:458: ConvergenceWarning: lbfgs failed to converge (status=1):\n",
      "STOP: TOTAL NO. of ITERATIONS REACHED LIMIT.\n",
      "\n",
      "Increase the number of iterations (max_iter) or scale the data as shown in:\n",
      "    https://scikit-learn.org/stable/modules/preprocessing.html\n",
      "Please also refer to the documentation for alternative solver options:\n",
      "    https://scikit-learn.org/stable/modules/linear_model.html#logistic-regression\n",
      "  n_iter_i = _check_optimize_result(\n",
      "C:\\Users\\hp\\PycharmProjects\\leadScoringModel\\venv\\lib\\site-packages\\sklearn\\utils\\validation.py:1143: DataConversionWarning: A column-vector y was passed when a 1d array was expected. Please change the shape of y to (n_samples, ), for example using ravel().\n",
      "  y = column_or_1d(y, warn=True)\n",
      "C:\\Users\\hp\\PycharmProjects\\leadScoringModel\\venv\\lib\\site-packages\\sklearn\\linear_model\\_logistic.py:458: ConvergenceWarning: lbfgs failed to converge (status=1):\n",
      "STOP: TOTAL NO. of ITERATIONS REACHED LIMIT.\n",
      "\n",
      "Increase the number of iterations (max_iter) or scale the data as shown in:\n",
      "    https://scikit-learn.org/stable/modules/preprocessing.html\n",
      "Please also refer to the documentation for alternative solver options:\n",
      "    https://scikit-learn.org/stable/modules/linear_model.html#logistic-regression\n",
      "  n_iter_i = _check_optimize_result(\n",
      "C:\\Users\\hp\\PycharmProjects\\leadScoringModel\\venv\\lib\\site-packages\\sklearn\\utils\\validation.py:1143: DataConversionWarning: A column-vector y was passed when a 1d array was expected. Please change the shape of y to (n_samples, ), for example using ravel().\n",
      "  y = column_or_1d(y, warn=True)\n",
      "C:\\Users\\hp\\PycharmProjects\\leadScoringModel\\venv\\lib\\site-packages\\sklearn\\linear_model\\_logistic.py:458: ConvergenceWarning: lbfgs failed to converge (status=1):\n",
      "STOP: TOTAL NO. of ITERATIONS REACHED LIMIT.\n",
      "\n",
      "Increase the number of iterations (max_iter) or scale the data as shown in:\n",
      "    https://scikit-learn.org/stable/modules/preprocessing.html\n",
      "Please also refer to the documentation for alternative solver options:\n",
      "    https://scikit-learn.org/stable/modules/linear_model.html#logistic-regression\n",
      "  n_iter_i = _check_optimize_result(\n",
      "C:\\Users\\hp\\PycharmProjects\\leadScoringModel\\venv\\lib\\site-packages\\sklearn\\utils\\validation.py:1143: DataConversionWarning: A column-vector y was passed when a 1d array was expected. Please change the shape of y to (n_samples, ), for example using ravel().\n",
      "  y = column_or_1d(y, warn=True)\n",
      "C:\\Users\\hp\\PycharmProjects\\leadScoringModel\\venv\\lib\\site-packages\\sklearn\\linear_model\\_logistic.py:458: ConvergenceWarning: lbfgs failed to converge (status=1):\n",
      "STOP: TOTAL NO. of ITERATIONS REACHED LIMIT.\n",
      "\n",
      "Increase the number of iterations (max_iter) or scale the data as shown in:\n",
      "    https://scikit-learn.org/stable/modules/preprocessing.html\n",
      "Please also refer to the documentation for alternative solver options:\n",
      "    https://scikit-learn.org/stable/modules/linear_model.html#logistic-regression\n",
      "  n_iter_i = _check_optimize_result(\n",
      "C:\\Users\\hp\\PycharmProjects\\leadScoringModel\\venv\\lib\\site-packages\\sklearn\\utils\\validation.py:1143: DataConversionWarning: A column-vector y was passed when a 1d array was expected. Please change the shape of y to (n_samples, ), for example using ravel().\n",
      "  y = column_or_1d(y, warn=True)\n",
      "C:\\Users\\hp\\PycharmProjects\\leadScoringModel\\venv\\lib\\site-packages\\sklearn\\linear_model\\_logistic.py:458: ConvergenceWarning: lbfgs failed to converge (status=1):\n",
      "STOP: TOTAL NO. of ITERATIONS REACHED LIMIT.\n",
      "\n",
      "Increase the number of iterations (max_iter) or scale the data as shown in:\n",
      "    https://scikit-learn.org/stable/modules/preprocessing.html\n",
      "Please also refer to the documentation for alternative solver options:\n",
      "    https://scikit-learn.org/stable/modules/linear_model.html#logistic-regression\n",
      "  n_iter_i = _check_optimize_result(\n",
      "C:\\Users\\hp\\PycharmProjects\\leadScoringModel\\venv\\lib\\site-packages\\sklearn\\utils\\validation.py:1143: DataConversionWarning: A column-vector y was passed when a 1d array was expected. Please change the shape of y to (n_samples, ), for example using ravel().\n",
      "  y = column_or_1d(y, warn=True)\n",
      "C:\\Users\\hp\\PycharmProjects\\leadScoringModel\\venv\\lib\\site-packages\\sklearn\\linear_model\\_logistic.py:458: ConvergenceWarning: lbfgs failed to converge (status=1):\n",
      "STOP: TOTAL NO. of ITERATIONS REACHED LIMIT.\n",
      "\n",
      "Increase the number of iterations (max_iter) or scale the data as shown in:\n",
      "    https://scikit-learn.org/stable/modules/preprocessing.html\n",
      "Please also refer to the documentation for alternative solver options:\n",
      "    https://scikit-learn.org/stable/modules/linear_model.html#logistic-regression\n",
      "  n_iter_i = _check_optimize_result(\n",
      "C:\\Users\\hp\\PycharmProjects\\leadScoringModel\\venv\\lib\\site-packages\\sklearn\\utils\\validation.py:1143: DataConversionWarning: A column-vector y was passed when a 1d array was expected. Please change the shape of y to (n_samples, ), for example using ravel().\n",
      "  y = column_or_1d(y, warn=True)\n",
      "C:\\Users\\hp\\PycharmProjects\\leadScoringModel\\venv\\lib\\site-packages\\sklearn\\linear_model\\_logistic.py:458: ConvergenceWarning: lbfgs failed to converge (status=1):\n",
      "STOP: TOTAL NO. of ITERATIONS REACHED LIMIT.\n",
      "\n",
      "Increase the number of iterations (max_iter) or scale the data as shown in:\n",
      "    https://scikit-learn.org/stable/modules/preprocessing.html\n",
      "Please also refer to the documentation for alternative solver options:\n",
      "    https://scikit-learn.org/stable/modules/linear_model.html#logistic-regression\n",
      "  n_iter_i = _check_optimize_result(\n",
      "C:\\Users\\hp\\PycharmProjects\\leadScoringModel\\venv\\lib\\site-packages\\sklearn\\utils\\validation.py:1143: DataConversionWarning: A column-vector y was passed when a 1d array was expected. Please change the shape of y to (n_samples, ), for example using ravel().\n",
      "  y = column_or_1d(y, warn=True)\n",
      "C:\\Users\\hp\\PycharmProjects\\leadScoringModel\\venv\\lib\\site-packages\\sklearn\\linear_model\\_logistic.py:458: ConvergenceWarning: lbfgs failed to converge (status=1):\n",
      "STOP: TOTAL NO. of ITERATIONS REACHED LIMIT.\n",
      "\n",
      "Increase the number of iterations (max_iter) or scale the data as shown in:\n",
      "    https://scikit-learn.org/stable/modules/preprocessing.html\n",
      "Please also refer to the documentation for alternative solver options:\n",
      "    https://scikit-learn.org/stable/modules/linear_model.html#logistic-regression\n",
      "  n_iter_i = _check_optimize_result(\n",
      "C:\\Users\\hp\\PycharmProjects\\leadScoringModel\\venv\\lib\\site-packages\\sklearn\\utils\\validation.py:1143: DataConversionWarning: A column-vector y was passed when a 1d array was expected. Please change the shape of y to (n_samples, ), for example using ravel().\n",
      "  y = column_or_1d(y, warn=True)\n",
      "C:\\Users\\hp\\PycharmProjects\\leadScoringModel\\venv\\lib\\site-packages\\sklearn\\linear_model\\_logistic.py:458: ConvergenceWarning: lbfgs failed to converge (status=1):\n",
      "STOP: TOTAL NO. of ITERATIONS REACHED LIMIT.\n",
      "\n",
      "Increase the number of iterations (max_iter) or scale the data as shown in:\n",
      "    https://scikit-learn.org/stable/modules/preprocessing.html\n",
      "Please also refer to the documentation for alternative solver options:\n",
      "    https://scikit-learn.org/stable/modules/linear_model.html#logistic-regression\n",
      "  n_iter_i = _check_optimize_result(\n",
      "C:\\Users\\hp\\PycharmProjects\\leadScoringModel\\venv\\lib\\site-packages\\sklearn\\utils\\validation.py:1143: DataConversionWarning: A column-vector y was passed when a 1d array was expected. Please change the shape of y to (n_samples, ), for example using ravel().\n",
      "  y = column_or_1d(y, warn=True)\n",
      "C:\\Users\\hp\\PycharmProjects\\leadScoringModel\\venv\\lib\\site-packages\\sklearn\\linear_model\\_logistic.py:458: ConvergenceWarning: lbfgs failed to converge (status=1):\n",
      "STOP: TOTAL NO. of ITERATIONS REACHED LIMIT.\n",
      "\n",
      "Increase the number of iterations (max_iter) or scale the data as shown in:\n",
      "    https://scikit-learn.org/stable/modules/preprocessing.html\n",
      "Please also refer to the documentation for alternative solver options:\n",
      "    https://scikit-learn.org/stable/modules/linear_model.html#logistic-regression\n",
      "  n_iter_i = _check_optimize_result(\n",
      "C:\\Users\\hp\\PycharmProjects\\leadScoringModel\\venv\\lib\\site-packages\\sklearn\\utils\\validation.py:1143: DataConversionWarning: A column-vector y was passed when a 1d array was expected. Please change the shape of y to (n_samples, ), for example using ravel().\n",
      "  y = column_or_1d(y, warn=True)\n",
      "C:\\Users\\hp\\PycharmProjects\\leadScoringModel\\venv\\lib\\site-packages\\sklearn\\linear_model\\_logistic.py:458: ConvergenceWarning: lbfgs failed to converge (status=1):\n",
      "STOP: TOTAL NO. of ITERATIONS REACHED LIMIT.\n",
      "\n",
      "Increase the number of iterations (max_iter) or scale the data as shown in:\n",
      "    https://scikit-learn.org/stable/modules/preprocessing.html\n",
      "Please also refer to the documentation for alternative solver options:\n",
      "    https://scikit-learn.org/stable/modules/linear_model.html#logistic-regression\n",
      "  n_iter_i = _check_optimize_result(\n",
      "C:\\Users\\hp\\PycharmProjects\\leadScoringModel\\venv\\lib\\site-packages\\sklearn\\utils\\validation.py:1143: DataConversionWarning: A column-vector y was passed when a 1d array was expected. Please change the shape of y to (n_samples, ), for example using ravel().\n",
      "  y = column_or_1d(y, warn=True)\n",
      "C:\\Users\\hp\\PycharmProjects\\leadScoringModel\\venv\\lib\\site-packages\\sklearn\\linear_model\\_logistic.py:458: ConvergenceWarning: lbfgs failed to converge (status=1):\n",
      "STOP: TOTAL NO. of ITERATIONS REACHED LIMIT.\n",
      "\n",
      "Increase the number of iterations (max_iter) or scale the data as shown in:\n",
      "    https://scikit-learn.org/stable/modules/preprocessing.html\n",
      "Please also refer to the documentation for alternative solver options:\n",
      "    https://scikit-learn.org/stable/modules/linear_model.html#logistic-regression\n",
      "  n_iter_i = _check_optimize_result(\n",
      "C:\\Users\\hp\\PycharmProjects\\leadScoringModel\\venv\\lib\\site-packages\\sklearn\\utils\\validation.py:1143: DataConversionWarning: A column-vector y was passed when a 1d array was expected. Please change the shape of y to (n_samples, ), for example using ravel().\n",
      "  y = column_or_1d(y, warn=True)\n",
      "C:\\Users\\hp\\PycharmProjects\\leadScoringModel\\venv\\lib\\site-packages\\sklearn\\linear_model\\_logistic.py:458: ConvergenceWarning: lbfgs failed to converge (status=1):\n",
      "STOP: TOTAL NO. of ITERATIONS REACHED LIMIT.\n",
      "\n",
      "Increase the number of iterations (max_iter) or scale the data as shown in:\n",
      "    https://scikit-learn.org/stable/modules/preprocessing.html\n",
      "Please also refer to the documentation for alternative solver options:\n",
      "    https://scikit-learn.org/stable/modules/linear_model.html#logistic-regression\n",
      "  n_iter_i = _check_optimize_result(\n",
      "C:\\Users\\hp\\PycharmProjects\\leadScoringModel\\venv\\lib\\site-packages\\sklearn\\utils\\validation.py:1143: DataConversionWarning: A column-vector y was passed when a 1d array was expected. Please change the shape of y to (n_samples, ), for example using ravel().\n",
      "  y = column_or_1d(y, warn=True)\n",
      "C:\\Users\\hp\\PycharmProjects\\leadScoringModel\\venv\\lib\\site-packages\\sklearn\\linear_model\\_logistic.py:458: ConvergenceWarning: lbfgs failed to converge (status=1):\n",
      "STOP: TOTAL NO. of ITERATIONS REACHED LIMIT.\n",
      "\n",
      "Increase the number of iterations (max_iter) or scale the data as shown in:\n",
      "    https://scikit-learn.org/stable/modules/preprocessing.html\n",
      "Please also refer to the documentation for alternative solver options:\n",
      "    https://scikit-learn.org/stable/modules/linear_model.html#logistic-regression\n",
      "  n_iter_i = _check_optimize_result(\n",
      "C:\\Users\\hp\\PycharmProjects\\leadScoringModel\\venv\\lib\\site-packages\\sklearn\\utils\\validation.py:1143: DataConversionWarning: A column-vector y was passed when a 1d array was expected. Please change the shape of y to (n_samples, ), for example using ravel().\n",
      "  y = column_or_1d(y, warn=True)\n",
      "C:\\Users\\hp\\PycharmProjects\\leadScoringModel\\venv\\lib\\site-packages\\sklearn\\linear_model\\_logistic.py:458: ConvergenceWarning: lbfgs failed to converge (status=1):\n",
      "STOP: TOTAL NO. of ITERATIONS REACHED LIMIT.\n",
      "\n",
      "Increase the number of iterations (max_iter) or scale the data as shown in:\n",
      "    https://scikit-learn.org/stable/modules/preprocessing.html\n",
      "Please also refer to the documentation for alternative solver options:\n",
      "    https://scikit-learn.org/stable/modules/linear_model.html#logistic-regression\n",
      "  n_iter_i = _check_optimize_result(\n",
      "C:\\Users\\hp\\PycharmProjects\\leadScoringModel\\venv\\lib\\site-packages\\sklearn\\utils\\validation.py:1143: DataConversionWarning: A column-vector y was passed when a 1d array was expected. Please change the shape of y to (n_samples, ), for example using ravel().\n",
      "  y = column_or_1d(y, warn=True)\n",
      "C:\\Users\\hp\\PycharmProjects\\leadScoringModel\\venv\\lib\\site-packages\\sklearn\\linear_model\\_logistic.py:458: ConvergenceWarning: lbfgs failed to converge (status=1):\n",
      "STOP: TOTAL NO. of ITERATIONS REACHED LIMIT.\n",
      "\n",
      "Increase the number of iterations (max_iter) or scale the data as shown in:\n",
      "    https://scikit-learn.org/stable/modules/preprocessing.html\n",
      "Please also refer to the documentation for alternative solver options:\n",
      "    https://scikit-learn.org/stable/modules/linear_model.html#logistic-regression\n",
      "  n_iter_i = _check_optimize_result(\n",
      "C:\\Users\\hp\\PycharmProjects\\leadScoringModel\\venv\\lib\\site-packages\\sklearn\\utils\\validation.py:1143: DataConversionWarning: A column-vector y was passed when a 1d array was expected. Please change the shape of y to (n_samples, ), for example using ravel().\n",
      "  y = column_or_1d(y, warn=True)\n",
      "C:\\Users\\hp\\PycharmProjects\\leadScoringModel\\venv\\lib\\site-packages\\sklearn\\linear_model\\_logistic.py:458: ConvergenceWarning: lbfgs failed to converge (status=1):\n",
      "STOP: TOTAL NO. of ITERATIONS REACHED LIMIT.\n",
      "\n",
      "Increase the number of iterations (max_iter) or scale the data as shown in:\n",
      "    https://scikit-learn.org/stable/modules/preprocessing.html\n",
      "Please also refer to the documentation for alternative solver options:\n",
      "    https://scikit-learn.org/stable/modules/linear_model.html#logistic-regression\n",
      "  n_iter_i = _check_optimize_result(\n",
      "C:\\Users\\hp\\PycharmProjects\\leadScoringModel\\venv\\lib\\site-packages\\sklearn\\utils\\validation.py:1143: DataConversionWarning: A column-vector y was passed when a 1d array was expected. Please change the shape of y to (n_samples, ), for example using ravel().\n",
      "  y = column_or_1d(y, warn=True)\n",
      "C:\\Users\\hp\\PycharmProjects\\leadScoringModel\\venv\\lib\\site-packages\\sklearn\\linear_model\\_logistic.py:458: ConvergenceWarning: lbfgs failed to converge (status=1):\n",
      "STOP: TOTAL NO. of ITERATIONS REACHED LIMIT.\n",
      "\n",
      "Increase the number of iterations (max_iter) or scale the data as shown in:\n",
      "    https://scikit-learn.org/stable/modules/preprocessing.html\n",
      "Please also refer to the documentation for alternative solver options:\n",
      "    https://scikit-learn.org/stable/modules/linear_model.html#logistic-regression\n",
      "  n_iter_i = _check_optimize_result(\n",
      "C:\\Users\\hp\\PycharmProjects\\leadScoringModel\\venv\\lib\\site-packages\\sklearn\\utils\\validation.py:1143: DataConversionWarning: A column-vector y was passed when a 1d array was expected. Please change the shape of y to (n_samples, ), for example using ravel().\n",
      "  y = column_or_1d(y, warn=True)\n",
      "C:\\Users\\hp\\PycharmProjects\\leadScoringModel\\venv\\lib\\site-packages\\sklearn\\linear_model\\_logistic.py:458: ConvergenceWarning: lbfgs failed to converge (status=1):\n",
      "STOP: TOTAL NO. of ITERATIONS REACHED LIMIT.\n",
      "\n",
      "Increase the number of iterations (max_iter) or scale the data as shown in:\n",
      "    https://scikit-learn.org/stable/modules/preprocessing.html\n",
      "Please also refer to the documentation for alternative solver options:\n",
      "    https://scikit-learn.org/stable/modules/linear_model.html#logistic-regression\n",
      "  n_iter_i = _check_optimize_result(\n",
      "C:\\Users\\hp\\PycharmProjects\\leadScoringModel\\venv\\lib\\site-packages\\sklearn\\utils\\validation.py:1143: DataConversionWarning: A column-vector y was passed when a 1d array was expected. Please change the shape of y to (n_samples, ), for example using ravel().\n",
      "  y = column_or_1d(y, warn=True)\n",
      "C:\\Users\\hp\\PycharmProjects\\leadScoringModel\\venv\\lib\\site-packages\\sklearn\\linear_model\\_logistic.py:458: ConvergenceWarning: lbfgs failed to converge (status=1):\n",
      "STOP: TOTAL NO. of ITERATIONS REACHED LIMIT.\n",
      "\n",
      "Increase the number of iterations (max_iter) or scale the data as shown in:\n",
      "    https://scikit-learn.org/stable/modules/preprocessing.html\n",
      "Please also refer to the documentation for alternative solver options:\n",
      "    https://scikit-learn.org/stable/modules/linear_model.html#logistic-regression\n",
      "  n_iter_i = _check_optimize_result(\n",
      "C:\\Users\\hp\\PycharmProjects\\leadScoringModel\\venv\\lib\\site-packages\\sklearn\\utils\\validation.py:1143: DataConversionWarning: A column-vector y was passed when a 1d array was expected. Please change the shape of y to (n_samples, ), for example using ravel().\n",
      "  y = column_or_1d(y, warn=True)\n",
      "C:\\Users\\hp\\PycharmProjects\\leadScoringModel\\venv\\lib\\site-packages\\sklearn\\linear_model\\_logistic.py:458: ConvergenceWarning: lbfgs failed to converge (status=1):\n",
      "STOP: TOTAL NO. of ITERATIONS REACHED LIMIT.\n",
      "\n",
      "Increase the number of iterations (max_iter) or scale the data as shown in:\n",
      "    https://scikit-learn.org/stable/modules/preprocessing.html\n",
      "Please also refer to the documentation for alternative solver options:\n",
      "    https://scikit-learn.org/stable/modules/linear_model.html#logistic-regression\n",
      "  n_iter_i = _check_optimize_result(\n",
      "C:\\Users\\hp\\PycharmProjects\\leadScoringModel\\venv\\lib\\site-packages\\sklearn\\utils\\validation.py:1143: DataConversionWarning: A column-vector y was passed when a 1d array was expected. Please change the shape of y to (n_samples, ), for example using ravel().\n",
      "  y = column_or_1d(y, warn=True)\n",
      "C:\\Users\\hp\\PycharmProjects\\leadScoringModel\\venv\\lib\\site-packages\\sklearn\\linear_model\\_logistic.py:458: ConvergenceWarning: lbfgs failed to converge (status=1):\n",
      "STOP: TOTAL NO. of ITERATIONS REACHED LIMIT.\n",
      "\n",
      "Increase the number of iterations (max_iter) or scale the data as shown in:\n",
      "    https://scikit-learn.org/stable/modules/preprocessing.html\n",
      "Please also refer to the documentation for alternative solver options:\n",
      "    https://scikit-learn.org/stable/modules/linear_model.html#logistic-regression\n",
      "  n_iter_i = _check_optimize_result(\n",
      "C:\\Users\\hp\\PycharmProjects\\leadScoringModel\\venv\\lib\\site-packages\\sklearn\\utils\\validation.py:1143: DataConversionWarning: A column-vector y was passed when a 1d array was expected. Please change the shape of y to (n_samples, ), for example using ravel().\n",
      "  y = column_or_1d(y, warn=True)\n",
      "C:\\Users\\hp\\PycharmProjects\\leadScoringModel\\venv\\lib\\site-packages\\sklearn\\linear_model\\_logistic.py:458: ConvergenceWarning: lbfgs failed to converge (status=1):\n",
      "STOP: TOTAL NO. of ITERATIONS REACHED LIMIT.\n",
      "\n",
      "Increase the number of iterations (max_iter) or scale the data as shown in:\n",
      "    https://scikit-learn.org/stable/modules/preprocessing.html\n",
      "Please also refer to the documentation for alternative solver options:\n",
      "    https://scikit-learn.org/stable/modules/linear_model.html#logistic-regression\n",
      "  n_iter_i = _check_optimize_result(\n",
      "C:\\Users\\hp\\PycharmProjects\\leadScoringModel\\venv\\lib\\site-packages\\sklearn\\utils\\validation.py:1143: DataConversionWarning: A column-vector y was passed when a 1d array was expected. Please change the shape of y to (n_samples, ), for example using ravel().\n",
      "  y = column_or_1d(y, warn=True)\n",
      "C:\\Users\\hp\\PycharmProjects\\leadScoringModel\\venv\\lib\\site-packages\\sklearn\\linear_model\\_logistic.py:458: ConvergenceWarning: lbfgs failed to converge (status=1):\n",
      "STOP: TOTAL NO. of ITERATIONS REACHED LIMIT.\n",
      "\n",
      "Increase the number of iterations (max_iter) or scale the data as shown in:\n",
      "    https://scikit-learn.org/stable/modules/preprocessing.html\n",
      "Please also refer to the documentation for alternative solver options:\n",
      "    https://scikit-learn.org/stable/modules/linear_model.html#logistic-regression\n",
      "  n_iter_i = _check_optimize_result(\n",
      "C:\\Users\\hp\\PycharmProjects\\leadScoringModel\\venv\\lib\\site-packages\\sklearn\\utils\\validation.py:1143: DataConversionWarning: A column-vector y was passed when a 1d array was expected. Please change the shape of y to (n_samples, ), for example using ravel().\n",
      "  y = column_or_1d(y, warn=True)\n",
      "C:\\Users\\hp\\PycharmProjects\\leadScoringModel\\venv\\lib\\site-packages\\sklearn\\linear_model\\_logistic.py:458: ConvergenceWarning: lbfgs failed to converge (status=1):\n",
      "STOP: TOTAL NO. of ITERATIONS REACHED LIMIT.\n",
      "\n",
      "Increase the number of iterations (max_iter) or scale the data as shown in:\n",
      "    https://scikit-learn.org/stable/modules/preprocessing.html\n",
      "Please also refer to the documentation for alternative solver options:\n",
      "    https://scikit-learn.org/stable/modules/linear_model.html#logistic-regression\n",
      "  n_iter_i = _check_optimize_result(\n",
      "C:\\Users\\hp\\PycharmProjects\\leadScoringModel\\venv\\lib\\site-packages\\sklearn\\utils\\validation.py:1143: DataConversionWarning: A column-vector y was passed when a 1d array was expected. Please change the shape of y to (n_samples, ), for example using ravel().\n",
      "  y = column_or_1d(y, warn=True)\n",
      "C:\\Users\\hp\\PycharmProjects\\leadScoringModel\\venv\\lib\\site-packages\\sklearn\\linear_model\\_logistic.py:458: ConvergenceWarning: lbfgs failed to converge (status=1):\n",
      "STOP: TOTAL NO. of ITERATIONS REACHED LIMIT.\n",
      "\n",
      "Increase the number of iterations (max_iter) or scale the data as shown in:\n",
      "    https://scikit-learn.org/stable/modules/preprocessing.html\n",
      "Please also refer to the documentation for alternative solver options:\n",
      "    https://scikit-learn.org/stable/modules/linear_model.html#logistic-regression\n",
      "  n_iter_i = _check_optimize_result(\n",
      "C:\\Users\\hp\\PycharmProjects\\leadScoringModel\\venv\\lib\\site-packages\\sklearn\\utils\\validation.py:1143: DataConversionWarning: A column-vector y was passed when a 1d array was expected. Please change the shape of y to (n_samples, ), for example using ravel().\n",
      "  y = column_or_1d(y, warn=True)\n",
      "C:\\Users\\hp\\PycharmProjects\\leadScoringModel\\venv\\lib\\site-packages\\sklearn\\linear_model\\_logistic.py:458: ConvergenceWarning: lbfgs failed to converge (status=1):\n",
      "STOP: TOTAL NO. of ITERATIONS REACHED LIMIT.\n",
      "\n",
      "Increase the number of iterations (max_iter) or scale the data as shown in:\n",
      "    https://scikit-learn.org/stable/modules/preprocessing.html\n",
      "Please also refer to the documentation for alternative solver options:\n",
      "    https://scikit-learn.org/stable/modules/linear_model.html#logistic-regression\n",
      "  n_iter_i = _check_optimize_result(\n",
      "C:\\Users\\hp\\PycharmProjects\\leadScoringModel\\venv\\lib\\site-packages\\sklearn\\utils\\validation.py:1143: DataConversionWarning: A column-vector y was passed when a 1d array was expected. Please change the shape of y to (n_samples, ), for example using ravel().\n",
      "  y = column_or_1d(y, warn=True)\n",
      "C:\\Users\\hp\\PycharmProjects\\leadScoringModel\\venv\\lib\\site-packages\\sklearn\\linear_model\\_logistic.py:458: ConvergenceWarning: lbfgs failed to converge (status=1):\n",
      "STOP: TOTAL NO. of ITERATIONS REACHED LIMIT.\n",
      "\n",
      "Increase the number of iterations (max_iter) or scale the data as shown in:\n",
      "    https://scikit-learn.org/stable/modules/preprocessing.html\n",
      "Please also refer to the documentation for alternative solver options:\n",
      "    https://scikit-learn.org/stable/modules/linear_model.html#logistic-regression\n",
      "  n_iter_i = _check_optimize_result(\n",
      "C:\\Users\\hp\\PycharmProjects\\leadScoringModel\\venv\\lib\\site-packages\\sklearn\\utils\\validation.py:1143: DataConversionWarning: A column-vector y was passed when a 1d array was expected. Please change the shape of y to (n_samples, ), for example using ravel().\n",
      "  y = column_or_1d(y, warn=True)\n",
      "C:\\Users\\hp\\PycharmProjects\\leadScoringModel\\venv\\lib\\site-packages\\sklearn\\linear_model\\_logistic.py:458: ConvergenceWarning: lbfgs failed to converge (status=1):\n",
      "STOP: TOTAL NO. of ITERATIONS REACHED LIMIT.\n",
      "\n",
      "Increase the number of iterations (max_iter) or scale the data as shown in:\n",
      "    https://scikit-learn.org/stable/modules/preprocessing.html\n",
      "Please also refer to the documentation for alternative solver options:\n",
      "    https://scikit-learn.org/stable/modules/linear_model.html#logistic-regression\n",
      "  n_iter_i = _check_optimize_result(\n",
      "C:\\Users\\hp\\PycharmProjects\\leadScoringModel\\venv\\lib\\site-packages\\sklearn\\utils\\validation.py:1143: DataConversionWarning: A column-vector y was passed when a 1d array was expected. Please change the shape of y to (n_samples, ), for example using ravel().\n",
      "  y = column_or_1d(y, warn=True)\n",
      "C:\\Users\\hp\\PycharmProjects\\leadScoringModel\\venv\\lib\\site-packages\\sklearn\\linear_model\\_logistic.py:458: ConvergenceWarning: lbfgs failed to converge (status=1):\n",
      "STOP: TOTAL NO. of ITERATIONS REACHED LIMIT.\n",
      "\n",
      "Increase the number of iterations (max_iter) or scale the data as shown in:\n",
      "    https://scikit-learn.org/stable/modules/preprocessing.html\n",
      "Please also refer to the documentation for alternative solver options:\n",
      "    https://scikit-learn.org/stable/modules/linear_model.html#logistic-regression\n",
      "  n_iter_i = _check_optimize_result(\n",
      "C:\\Users\\hp\\PycharmProjects\\leadScoringModel\\venv\\lib\\site-packages\\sklearn\\utils\\validation.py:1143: DataConversionWarning: A column-vector y was passed when a 1d array was expected. Please change the shape of y to (n_samples, ), for example using ravel().\n",
      "  y = column_or_1d(y, warn=True)\n",
      "C:\\Users\\hp\\PycharmProjects\\leadScoringModel\\venv\\lib\\site-packages\\sklearn\\linear_model\\_logistic.py:458: ConvergenceWarning: lbfgs failed to converge (status=1):\n",
      "STOP: TOTAL NO. of ITERATIONS REACHED LIMIT.\n",
      "\n",
      "Increase the number of iterations (max_iter) or scale the data as shown in:\n",
      "    https://scikit-learn.org/stable/modules/preprocessing.html\n",
      "Please also refer to the documentation for alternative solver options:\n",
      "    https://scikit-learn.org/stable/modules/linear_model.html#logistic-regression\n",
      "  n_iter_i = _check_optimize_result(\n",
      "C:\\Users\\hp\\PycharmProjects\\leadScoringModel\\venv\\lib\\site-packages\\sklearn\\utils\\validation.py:1143: DataConversionWarning: A column-vector y was passed when a 1d array was expected. Please change the shape of y to (n_samples, ), for example using ravel().\n",
      "  y = column_or_1d(y, warn=True)\n",
      "C:\\Users\\hp\\PycharmProjects\\leadScoringModel\\venv\\lib\\site-packages\\sklearn\\linear_model\\_logistic.py:458: ConvergenceWarning: lbfgs failed to converge (status=1):\n",
      "STOP: TOTAL NO. of ITERATIONS REACHED LIMIT.\n",
      "\n",
      "Increase the number of iterations (max_iter) or scale the data as shown in:\n",
      "    https://scikit-learn.org/stable/modules/preprocessing.html\n",
      "Please also refer to the documentation for alternative solver options:\n",
      "    https://scikit-learn.org/stable/modules/linear_model.html#logistic-regression\n",
      "  n_iter_i = _check_optimize_result(\n"
     ]
    },
    {
     "data": {
      "text/plain": "RFE(estimator=LogisticRegression(), n_features_to_select=15)",
      "text/html": "<style>#sk-container-id-3 {color: black;background-color: white;}#sk-container-id-3 pre{padding: 0;}#sk-container-id-3 div.sk-toggleable {background-color: white;}#sk-container-id-3 label.sk-toggleable__label {cursor: pointer;display: block;width: 100%;margin-bottom: 0;padding: 0.3em;box-sizing: border-box;text-align: center;}#sk-container-id-3 label.sk-toggleable__label-arrow:before {content: \"▸\";float: left;margin-right: 0.25em;color: #696969;}#sk-container-id-3 label.sk-toggleable__label-arrow:hover:before {color: black;}#sk-container-id-3 div.sk-estimator:hover label.sk-toggleable__label-arrow:before {color: black;}#sk-container-id-3 div.sk-toggleable__content {max-height: 0;max-width: 0;overflow: hidden;text-align: left;background-color: #f0f8ff;}#sk-container-id-3 div.sk-toggleable__content pre {margin: 0.2em;color: black;border-radius: 0.25em;background-color: #f0f8ff;}#sk-container-id-3 apiInput.sk-toggleable__control:checked~div.sk-toggleable__content {max-height: 200px;max-width: 100%;overflow: auto;}#sk-container-id-3 apiInput.sk-toggleable__control:checked~label.sk-toggleable__label-arrow:before {content: \"▾\";}#sk-container-id-3 div.sk-estimator apiInput.sk-toggleable__control:checked~label.sk-toggleable__label {background-color: #d4ebff;}#sk-container-id-3 div.sk-label apiInput.sk-toggleable__control:checked~label.sk-toggleable__label {background-color: #d4ebff;}#sk-container-id-3 apiInput.sk-hidden--visually {border: 0;clip: rect(1px 1px 1px 1px);clip: rect(1px, 1px, 1px, 1px);height: 1px;margin: -1px;overflow: hidden;padding: 0;position: absolute;width: 1px;}#sk-container-id-3 div.sk-estimator {font-family: monospace;background-color: #f0f8ff;border: 1px dotted black;border-radius: 0.25em;box-sizing: border-box;margin-bottom: 0.5em;}#sk-container-id-3 div.sk-estimator:hover {background-color: #d4ebff;}#sk-container-id-3 div.sk-parallel-item::after {content: \"\";width: 100%;border-bottom: 1px solid gray;flex-grow: 1;}#sk-container-id-3 div.sk-label:hover label.sk-toggleable__label {background-color: #d4ebff;}#sk-container-id-3 div.sk-serial::before {content: \"\";position: absolute;border-left: 1px solid gray;box-sizing: border-box;top: 0;bottom: 0;left: 50%;z-index: 0;}#sk-container-id-3 div.sk-serial {display: flex;flex-direction: column;align-items: center;background-color: white;padding-right: 0.2em;padding-left: 0.2em;position: relative;}#sk-container-id-3 div.sk-item {position: relative;z-index: 1;}#sk-container-id-3 div.sk-parallel {display: flex;align-items: stretch;justify-content: center;background-color: white;position: relative;}#sk-container-id-3 div.sk-item::before, #sk-container-id-3 div.sk-parallel-item::before {content: \"\";position: absolute;border-left: 1px solid gray;box-sizing: border-box;top: 0;bottom: 0;left: 50%;z-index: -1;}#sk-container-id-3 div.sk-parallel-item {display: flex;flex-direction: column;z-index: 1;position: relative;background-color: white;}#sk-container-id-3 div.sk-parallel-item:first-child::after {align-self: flex-end;width: 50%;}#sk-container-id-3 div.sk-parallel-item:last-child::after {align-self: flex-start;width: 50%;}#sk-container-id-3 div.sk-parallel-item:only-child::after {width: 0;}#sk-container-id-3 div.sk-dashed-wrapped {border: 1px dashed gray;margin: 0 0.4em 0.5em 0.4em;box-sizing: border-box;padding-bottom: 0.4em;background-color: white;}#sk-container-id-3 div.sk-label label {font-family: monospace;font-weight: bold;display: inline-block;line-height: 1.2em;}#sk-container-id-3 div.sk-label-container {text-align: center;}#sk-container-id-3 div.sk-container {/* jupyter's `normalize.less` sets `[hidden] { display: none; }` but bootstrap.min.css set `[hidden] { display: none !important; }` so we also need the `!important` here to be able to override the default hidden behavior on the sphinx rendered scikit-learn.org. See: https://github.com/scikit-learn/scikit-learn/issues/21755 */display: inline-block !important;position: relative;}#sk-container-id-3 div.sk-text-repr-fallback {display: none;}</style><div id=\"sk-container-id-3\" class=\"sk-top-container\"><div class=\"sk-text-repr-fallback\"><pre>RFE(estimator=LogisticRegression(), n_features_to_select=15)</pre><b>In a Jupyter environment, please rerun this cell to show the HTML representation or trust the notebook. <br />On GitHub, the HTML representation is unable to render, please try loading this page with nbviewer.org.</b></div><div class=\"sk-container\" hidden><div class=\"sk-item sk-dashed-wrapped\"><div class=\"sk-label-container\"><div class=\"sk-label sk-toggleable\"><apiInput class=\"sk-toggleable__control sk-hidden--visually\" id=\"sk-estimator-id-5\" type=\"checkbox\" ><label for=\"sk-estimator-id-5\" class=\"sk-toggleable__label sk-toggleable__label-arrow\">RFE</label><div class=\"sk-toggleable__content\"><pre>RFE(estimator=LogisticRegression(), n_features_to_select=15)</pre></div></div></div><div class=\"sk-parallel\"><div class=\"sk-parallel-item\"><div class=\"sk-item\"><div class=\"sk-label-container\"><div class=\"sk-label sk-toggleable\"><apiInput class=\"sk-toggleable__control sk-hidden--visually\" id=\"sk-estimator-id-6\" type=\"checkbox\" ><label for=\"sk-estimator-id-6\" class=\"sk-toggleable__label sk-toggleable__label-arrow\">estimator: LogisticRegression</label><div class=\"sk-toggleable__content\"><pre>LogisticRegression()</pre></div></div></div><div class=\"sk-serial\"><div class=\"sk-item\"><div class=\"sk-estimator sk-toggleable\"><apiInput class=\"sk-toggleable__control sk-hidden--visually\" id=\"sk-estimator-id-7\" type=\"checkbox\" ><label for=\"sk-estimator-id-7\" class=\"sk-toggleable__label sk-toggleable__label-arrow\">LogisticRegression</label><div class=\"sk-toggleable__content\"><pre>LogisticRegression()</pre></div></div></div></div></div></div></div></div></div></div>"
     },
     "execution_count": 33,
     "metadata": {},
     "output_type": "execute_result"
    }
   ],
   "source": [
    "rfe = RFE(estimator=logreg, n_features_to_select= 15)\n",
    "rfe.fit(leads_x_train_clean,leads_y_train)"
   ],
   "metadata": {
    "collapsed": false,
    "pycharm": {
     "name": "#%%\n"
    }
   }
  },
  {
   "cell_type": "code",
   "execution_count": 34,
   "outputs": [
    {
     "data": {
      "text/plain": "['age',\n 'income',\n 'total_calls_attended',\n 'total_meetings_attended',\n 'company_estimated_revenue',\n 'lead_source_other',\n 'lead_source_referral',\n 'education_level_master',\n 'occupation_employee',\n 'occupation_unemployed',\n 'initial_response_neutral',\n 'initial_response_positive',\n 'company_size_medium',\n 'lead_quality_hot',\n 'lead_quality_warm']"
     },
     "execution_count": 34,
     "metadata": {},
     "output_type": "execute_result"
    }
   ],
   "source": [
    "rfe_col = list(leads_x_train_clean.columns[rfe.support_])\n",
    "rfe_col"
   ],
   "metadata": {
    "collapsed": false,
    "pycharm": {
     "name": "#%%\n"
    }
   }
  },
  {
   "cell_type": "code",
   "execution_count": 35,
   "outputs": [
    {
     "data": {
      "text/plain": "           age    income  total_calls_attended  total_meetings_attended   \n7072 -0.143605 -0.280340              0.135095                 0.227912  \\\n4141  1.093861  0.902358             -0.423809                 1.145328   \n6227 -0.246727 -0.411751             -0.423809                 0.227912   \n9804 -0.349849 -0.849787             -1.541618                -1.606919   \n7930 -1.277948 -0.543162             -0.982714                -1.606919   \n\n      company_estimated_revenue  lead_source_other  lead_source_referral   \n7072                  -0.515709               True                 False  \\\n4141                  -0.693591              False                 False   \n6227                  -0.853138               True                 False   \n9804                  -1.130094               True                 False   \n7930                  -1.170302               True                 False   \n\n      education_level_master  occupation_employee  occupation_unemployed   \n7072                   False                 True                  False  \\\n4141                   False                False                  False   \n6227                   False                 True                  False   \n9804                   False                False                   True   \n7930                    True                False                  False   \n\n      initial_response_neutral  initial_response_positive   \n7072                     False                       True  \\\n4141                     False                       True   \n6227                      True                      False   \n9804                     False                      False   \n7930                     False                      False   \n\n      company_size_medium  lead_quality_hot  lead_quality_warm  \n7072                 True              True              False  \n4141                 True              True              False  \n6227                 True             False               True  \n9804                False             False              False  \n7930                False             False              False  ",
      "text/html": "<div>\n<style scoped>\n    .dataframe tbody tr th:only-of-type {\n        vertical-align: middle;\n    }\n\n    .dataframe tbody tr th {\n        vertical-align: top;\n    }\n\n    .dataframe thead th {\n        text-align: right;\n    }\n</style>\n<table border=\"1\" class=\"dataframe\">\n  <thead>\n    <tr style=\"text-align: right;\">\n      <th></th>\n      <th>age</th>\n      <th>income</th>\n      <th>total_calls_attended</th>\n      <th>total_meetings_attended</th>\n      <th>company_estimated_revenue</th>\n      <th>lead_source_other</th>\n      <th>lead_source_referral</th>\n      <th>education_level_master</th>\n      <th>occupation_employee</th>\n      <th>occupation_unemployed</th>\n      <th>initial_response_neutral</th>\n      <th>initial_response_positive</th>\n      <th>company_size_medium</th>\n      <th>lead_quality_hot</th>\n      <th>lead_quality_warm</th>\n    </tr>\n  </thead>\n  <tbody>\n    <tr>\n      <th>7072</th>\n      <td>-0.143605</td>\n      <td>-0.280340</td>\n      <td>0.135095</td>\n      <td>0.227912</td>\n      <td>-0.515709</td>\n      <td>True</td>\n      <td>False</td>\n      <td>False</td>\n      <td>True</td>\n      <td>False</td>\n      <td>False</td>\n      <td>True</td>\n      <td>True</td>\n      <td>True</td>\n      <td>False</td>\n    </tr>\n    <tr>\n      <th>4141</th>\n      <td>1.093861</td>\n      <td>0.902358</td>\n      <td>-0.423809</td>\n      <td>1.145328</td>\n      <td>-0.693591</td>\n      <td>False</td>\n      <td>False</td>\n      <td>False</td>\n      <td>False</td>\n      <td>False</td>\n      <td>False</td>\n      <td>True</td>\n      <td>True</td>\n      <td>True</td>\n      <td>False</td>\n    </tr>\n    <tr>\n      <th>6227</th>\n      <td>-0.246727</td>\n      <td>-0.411751</td>\n      <td>-0.423809</td>\n      <td>0.227912</td>\n      <td>-0.853138</td>\n      <td>True</td>\n      <td>False</td>\n      <td>False</td>\n      <td>True</td>\n      <td>False</td>\n      <td>True</td>\n      <td>False</td>\n      <td>True</td>\n      <td>False</td>\n      <td>True</td>\n    </tr>\n    <tr>\n      <th>9804</th>\n      <td>-0.349849</td>\n      <td>-0.849787</td>\n      <td>-1.541618</td>\n      <td>-1.606919</td>\n      <td>-1.130094</td>\n      <td>True</td>\n      <td>False</td>\n      <td>False</td>\n      <td>False</td>\n      <td>True</td>\n      <td>False</td>\n      <td>False</td>\n      <td>False</td>\n      <td>False</td>\n      <td>False</td>\n    </tr>\n    <tr>\n      <th>7930</th>\n      <td>-1.277948</td>\n      <td>-0.543162</td>\n      <td>-0.982714</td>\n      <td>-1.606919</td>\n      <td>-1.170302</td>\n      <td>True</td>\n      <td>False</td>\n      <td>True</td>\n      <td>False</td>\n      <td>False</td>\n      <td>False</td>\n      <td>False</td>\n      <td>False</td>\n      <td>False</td>\n      <td>False</td>\n    </tr>\n  </tbody>\n</table>\n</div>"
     },
     "execution_count": 35,
     "metadata": {},
     "output_type": "execute_result"
    }
   ],
   "source": [
    "leads_x_train_clean_rfe = leads_x_train_clean[rfe_col]\n",
    "leads_x_train_clean_rfe.head()"
   ],
   "metadata": {
    "collapsed": false,
    "pycharm": {
     "name": "#%%\n"
    }
   }
  },
  {
   "cell_type": "code",
   "execution_count": 36,
   "outputs": [
    {
     "data": {
      "text/plain": "           age    income  total_calls_attended  total_meetings_attended   \n6139 -0.246727 -0.433653              0.135095                 0.227912  \\\n1012  1.815716  1.822234              1.811809                 0.227912   \n1784  1.609471  1.077572              0.135095                 0.227912   \n9452 -1.174826 -0.280340             -1.541618                -1.606919   \n1329  1.815716  0.442420             -0.423809                 0.227912   \n\n      company_estimated_revenue  lead_source_other  lead_source_referral   \n6139                  -0.227495               True                 False  \\\n1012                   1.606008              False                 False   \n1784                   0.749087              False                 False   \n9452                  -1.173841              False                  True   \n1329                   1.406896              False                  True   \n\n      education_level_master  occupation_employee  occupation_unemployed   \n6139                   False                 True                  False  \\\n1012                   False                False                  False   \n1784                   False                False                  False   \n9452                    True                False                  False   \n1329                   False                False                  False   \n\n      initial_response_neutral  initial_response_positive   \n6139                     False                       True  \\\n1012                     False                       True   \n1784                     False                       True   \n9452                     False                      False   \n1329                     False                       True   \n\n      company_size_medium  lead_quality_hot  lead_quality_warm  \n6139                 True             False               True  \n1012                 True              True              False  \n1784                 True              True              False  \n9452                False             False              False  \n1329                 True             False               True  ",
      "text/html": "<div>\n<style scoped>\n    .dataframe tbody tr th:only-of-type {\n        vertical-align: middle;\n    }\n\n    .dataframe tbody tr th {\n        vertical-align: top;\n    }\n\n    .dataframe thead th {\n        text-align: right;\n    }\n</style>\n<table border=\"1\" class=\"dataframe\">\n  <thead>\n    <tr style=\"text-align: right;\">\n      <th></th>\n      <th>age</th>\n      <th>income</th>\n      <th>total_calls_attended</th>\n      <th>total_meetings_attended</th>\n      <th>company_estimated_revenue</th>\n      <th>lead_source_other</th>\n      <th>lead_source_referral</th>\n      <th>education_level_master</th>\n      <th>occupation_employee</th>\n      <th>occupation_unemployed</th>\n      <th>initial_response_neutral</th>\n      <th>initial_response_positive</th>\n      <th>company_size_medium</th>\n      <th>lead_quality_hot</th>\n      <th>lead_quality_warm</th>\n    </tr>\n  </thead>\n  <tbody>\n    <tr>\n      <th>6139</th>\n      <td>-0.246727</td>\n      <td>-0.433653</td>\n      <td>0.135095</td>\n      <td>0.227912</td>\n      <td>-0.227495</td>\n      <td>True</td>\n      <td>False</td>\n      <td>False</td>\n      <td>True</td>\n      <td>False</td>\n      <td>False</td>\n      <td>True</td>\n      <td>True</td>\n      <td>False</td>\n      <td>True</td>\n    </tr>\n    <tr>\n      <th>1012</th>\n      <td>1.815716</td>\n      <td>1.822234</td>\n      <td>1.811809</td>\n      <td>0.227912</td>\n      <td>1.606008</td>\n      <td>False</td>\n      <td>False</td>\n      <td>False</td>\n      <td>False</td>\n      <td>False</td>\n      <td>False</td>\n      <td>True</td>\n      <td>True</td>\n      <td>True</td>\n      <td>False</td>\n    </tr>\n    <tr>\n      <th>1784</th>\n      <td>1.609471</td>\n      <td>1.077572</td>\n      <td>0.135095</td>\n      <td>0.227912</td>\n      <td>0.749087</td>\n      <td>False</td>\n      <td>False</td>\n      <td>False</td>\n      <td>False</td>\n      <td>False</td>\n      <td>False</td>\n      <td>True</td>\n      <td>True</td>\n      <td>True</td>\n      <td>False</td>\n    </tr>\n    <tr>\n      <th>9452</th>\n      <td>-1.174826</td>\n      <td>-0.280340</td>\n      <td>-1.541618</td>\n      <td>-1.606919</td>\n      <td>-1.173841</td>\n      <td>False</td>\n      <td>True</td>\n      <td>True</td>\n      <td>False</td>\n      <td>False</td>\n      <td>False</td>\n      <td>False</td>\n      <td>False</td>\n      <td>False</td>\n      <td>False</td>\n    </tr>\n    <tr>\n      <th>1329</th>\n      <td>1.815716</td>\n      <td>0.442420</td>\n      <td>-0.423809</td>\n      <td>0.227912</td>\n      <td>1.406896</td>\n      <td>False</td>\n      <td>True</td>\n      <td>False</td>\n      <td>False</td>\n      <td>False</td>\n      <td>False</td>\n      <td>True</td>\n      <td>True</td>\n      <td>False</td>\n      <td>True</td>\n    </tr>\n  </tbody>\n</table>\n</div>"
     },
     "execution_count": 36,
     "metadata": {},
     "output_type": "execute_result"
    }
   ],
   "source": [
    "leads_x_test_clean_rfe = leads_x_test_clean[rfe_col]\n",
    "leads_x_test_clean_rfe.head()"
   ],
   "metadata": {
    "collapsed": false,
    "pycharm": {
     "name": "#%%\n"
    }
   }
  },
  {
   "cell_type": "code",
   "execution_count": 37,
   "outputs": [
    {
     "data": {
      "text/plain": "RandomForestClassifier(min_samples_split=4)",
      "text/html": "<style>#sk-container-id-4 {color: black;background-color: white;}#sk-container-id-4 pre{padding: 0;}#sk-container-id-4 div.sk-toggleable {background-color: white;}#sk-container-id-4 label.sk-toggleable__label {cursor: pointer;display: block;width: 100%;margin-bottom: 0;padding: 0.3em;box-sizing: border-box;text-align: center;}#sk-container-id-4 label.sk-toggleable__label-arrow:before {content: \"▸\";float: left;margin-right: 0.25em;color: #696969;}#sk-container-id-4 label.sk-toggleable__label-arrow:hover:before {color: black;}#sk-container-id-4 div.sk-estimator:hover label.sk-toggleable__label-arrow:before {color: black;}#sk-container-id-4 div.sk-toggleable__content {max-height: 0;max-width: 0;overflow: hidden;text-align: left;background-color: #f0f8ff;}#sk-container-id-4 div.sk-toggleable__content pre {margin: 0.2em;color: black;border-radius: 0.25em;background-color: #f0f8ff;}#sk-container-id-4 apiInput.sk-toggleable__control:checked~div.sk-toggleable__content {max-height: 200px;max-width: 100%;overflow: auto;}#sk-container-id-4 apiInput.sk-toggleable__control:checked~label.sk-toggleable__label-arrow:before {content: \"▾\";}#sk-container-id-4 div.sk-estimator apiInput.sk-toggleable__control:checked~label.sk-toggleable__label {background-color: #d4ebff;}#sk-container-id-4 div.sk-label apiInput.sk-toggleable__control:checked~label.sk-toggleable__label {background-color: #d4ebff;}#sk-container-id-4 apiInput.sk-hidden--visually {border: 0;clip: rect(1px 1px 1px 1px);clip: rect(1px, 1px, 1px, 1px);height: 1px;margin: -1px;overflow: hidden;padding: 0;position: absolute;width: 1px;}#sk-container-id-4 div.sk-estimator {font-family: monospace;background-color: #f0f8ff;border: 1px dotted black;border-radius: 0.25em;box-sizing: border-box;margin-bottom: 0.5em;}#sk-container-id-4 div.sk-estimator:hover {background-color: #d4ebff;}#sk-container-id-4 div.sk-parallel-item::after {content: \"\";width: 100%;border-bottom: 1px solid gray;flex-grow: 1;}#sk-container-id-4 div.sk-label:hover label.sk-toggleable__label {background-color: #d4ebff;}#sk-container-id-4 div.sk-serial::before {content: \"\";position: absolute;border-left: 1px solid gray;box-sizing: border-box;top: 0;bottom: 0;left: 50%;z-index: 0;}#sk-container-id-4 div.sk-serial {display: flex;flex-direction: column;align-items: center;background-color: white;padding-right: 0.2em;padding-left: 0.2em;position: relative;}#sk-container-id-4 div.sk-item {position: relative;z-index: 1;}#sk-container-id-4 div.sk-parallel {display: flex;align-items: stretch;justify-content: center;background-color: white;position: relative;}#sk-container-id-4 div.sk-item::before, #sk-container-id-4 div.sk-parallel-item::before {content: \"\";position: absolute;border-left: 1px solid gray;box-sizing: border-box;top: 0;bottom: 0;left: 50%;z-index: -1;}#sk-container-id-4 div.sk-parallel-item {display: flex;flex-direction: column;z-index: 1;position: relative;background-color: white;}#sk-container-id-4 div.sk-parallel-item:first-child::after {align-self: flex-end;width: 50%;}#sk-container-id-4 div.sk-parallel-item:last-child::after {align-self: flex-start;width: 50%;}#sk-container-id-4 div.sk-parallel-item:only-child::after {width: 0;}#sk-container-id-4 div.sk-dashed-wrapped {border: 1px dashed gray;margin: 0 0.4em 0.5em 0.4em;box-sizing: border-box;padding-bottom: 0.4em;background-color: white;}#sk-container-id-4 div.sk-label label {font-family: monospace;font-weight: bold;display: inline-block;line-height: 1.2em;}#sk-container-id-4 div.sk-label-container {text-align: center;}#sk-container-id-4 div.sk-container {/* jupyter's `normalize.less` sets `[hidden] { display: none; }` but bootstrap.min.css set `[hidden] { display: none !important; }` so we also need the `!important` here to be able to override the default hidden behavior on the sphinx rendered scikit-learn.org. See: https://github.com/scikit-learn/scikit-learn/issues/21755 */display: inline-block !important;position: relative;}#sk-container-id-4 div.sk-text-repr-fallback {display: none;}</style><div id=\"sk-container-id-4\" class=\"sk-top-container\"><div class=\"sk-text-repr-fallback\"><pre>RandomForestClassifier(min_samples_split=4)</pre><b>In a Jupyter environment, please rerun this cell to show the HTML representation or trust the notebook. <br />On GitHub, the HTML representation is unable to render, please try loading this page with nbviewer.org.</b></div><div class=\"sk-container\" hidden><div class=\"sk-item\"><div class=\"sk-estimator sk-toggleable\"><apiInput class=\"sk-toggleable__control sk-hidden--visually\" id=\"sk-estimator-id-8\" type=\"checkbox\" checked><label for=\"sk-estimator-id-8\" class=\"sk-toggleable__label sk-toggleable__label-arrow\">RandomForestClassifier</label><div class=\"sk-toggleable__content\"><pre>RandomForestClassifier(min_samples_split=4)</pre></div></div></div></div></div>"
     },
     "execution_count": 37,
     "metadata": {},
     "output_type": "execute_result"
    }
   ],
   "source": [
    "## Train the random forest model\n",
    "num_estimators = 100\n",
    "min_samples = 4\n",
    "\n",
    "rf = RandomForestClassifier(n_estimators=num_estimators,\n",
    "                            min_samples_split=min_samples)\n",
    "rf.fit(leads_x_train_clean, leads_y_train.values.ravel())"
   ],
   "metadata": {
    "collapsed": false,
    "pycharm": {
     "name": "#%%\n"
    }
   }
  },
  {
   "cell_type": "code",
   "execution_count": 38,
   "outputs": [
    {
     "name": "stdout",
     "output_type": "stream",
     "text": [
      "0.050666666666666665\n"
     ]
    }
   ],
   "source": [
    "leads_y_test_predicted = rf.predict(leads_x_test_clean)\n",
    "leads_y_test_predicted = pd.DataFrame(leads_y_test_predicted)\n",
    "\n",
    "accuracy = metrics.accuracy_score(leads_y_test, leads_y_test_predicted)\n",
    "#auc_score = metrics.roc_auc_score(leads_y_test, leads_y_test_predicted, multi_class='ovr')\n",
    "\n",
    "print(accuracy)\n",
    "#print(auc_score)"
   ],
   "metadata": {
    "collapsed": false,
    "pycharm": {
     "name": "#%%\n"
    }
   }
  },
  {
   "cell_type": "code",
   "execution_count": 39,
   "outputs": [
    {
     "data": {
      "text/plain": "    0\n0  60\n1  96\n2  94\n3  19\n4  79",
      "text/html": "<div>\n<style scoped>\n    .dataframe tbody tr th:only-of-type {\n        vertical-align: middle;\n    }\n\n    .dataframe tbody tr th {\n        vertical-align: top;\n    }\n\n    .dataframe thead th {\n        text-align: right;\n    }\n</style>\n<table border=\"1\" class=\"dataframe\">\n  <thead>\n    <tr style=\"text-align: right;\">\n      <th></th>\n      <th>0</th>\n    </tr>\n  </thead>\n  <tbody>\n    <tr>\n      <th>0</th>\n      <td>60</td>\n    </tr>\n    <tr>\n      <th>1</th>\n      <td>96</td>\n    </tr>\n    <tr>\n      <th>2</th>\n      <td>94</td>\n    </tr>\n    <tr>\n      <th>3</th>\n      <td>19</td>\n    </tr>\n    <tr>\n      <th>4</th>\n      <td>79</td>\n    </tr>\n  </tbody>\n</table>\n</div>"
     },
     "execution_count": 39,
     "metadata": {},
     "output_type": "execute_result"
    }
   ],
   "source": [
    "leads_y_test_predicted = pd.DataFrame(leads_y_test_predicted)\n",
    "leads_y_test_predicted.head()"
   ],
   "metadata": {
    "collapsed": false,
    "pycharm": {
     "name": "#%%\n"
    }
   }
  },
  {
   "cell_type": "code",
   "execution_count": 40,
   "outputs": [
    {
     "data": {
      "text/plain": "      lead_score\n6139          64\n1012          89\n1784          77\n9452          13\n1329          85",
      "text/html": "<div>\n<style scoped>\n    .dataframe tbody tr th:only-of-type {\n        vertical-align: middle;\n    }\n\n    .dataframe tbody tr th {\n        vertical-align: top;\n    }\n\n    .dataframe thead th {\n        text-align: right;\n    }\n</style>\n<table border=\"1\" class=\"dataframe\">\n  <thead>\n    <tr style=\"text-align: right;\">\n      <th></th>\n      <th>lead_score</th>\n    </tr>\n  </thead>\n  <tbody>\n    <tr>\n      <th>6139</th>\n      <td>64</td>\n    </tr>\n    <tr>\n      <th>1012</th>\n      <td>89</td>\n    </tr>\n    <tr>\n      <th>1784</th>\n      <td>77</td>\n    </tr>\n    <tr>\n      <th>9452</th>\n      <td>13</td>\n    </tr>\n    <tr>\n      <th>1329</th>\n      <td>85</td>\n    </tr>\n  </tbody>\n</table>\n</div>"
     },
     "execution_count": 40,
     "metadata": {},
     "output_type": "execute_result"
    }
   ],
   "source": [
    "leads_y_test.head()"
   ],
   "metadata": {
    "collapsed": false,
    "pycharm": {
     "name": "#%%\n"
    }
   }
  },
  {
   "cell_type": "code",
   "execution_count": 41,
   "outputs": [
    {
     "ename": "ValueError",
     "evalue": "Pandas data cast to numpy dtype of object. Check apiInput data with np.asarray(data). The types seen werelead_score    int64\ndtype: object and age                          float64\nincome                       float64\ntotal_calls_attended         float64\ntotal_meetings_attended      float64\ncompany_estimated_revenue    float64\nlead_source_other               bool\nlead_source_referral            bool\neducation_level_master          bool\noccupation_employee             bool\noccupation_unemployed           bool\ninitial_response_neutral        bool\ninitial_response_positive       bool\ncompany_size_medium             bool\nlead_quality_hot                bool\nlead_quality_warm               bool\ndtype: object. The data was\n      lead_score\n7072          52\n4141          93\n6227          74\n9804          42\n7930          18\n...          ...\n3153          87\n5491          65\n5748          55\n5271          63\n6497          74\n\n[7000 rows x 1 columns]\nand\n            age    income  total_calls_attended  total_meetings_attended   \n7072 -0.143605 -0.280340              0.135095                 0.227912  \\\n4141  1.093861  0.902358             -0.423809                 1.145328   \n6227 -0.246727 -0.411751             -0.423809                 0.227912   \n9804 -0.349849 -0.849787             -1.541618                -1.606919   \n7930 -1.277948 -0.543162             -0.982714                -1.606919   \n...        ...       ...                   ...                      ...   \n3153 -0.246727  0.048187             -0.423809                 0.227912   \n5491  0.372006 -0.608867             -0.423809                 0.227912   \n5748  0.268884 -0.543162             -0.423809                 0.227912   \n5271 -0.040483 -0.389849              0.135095                 0.227912   \n6497 -0.452971 -0.652671             -0.423809                 0.227912   \n\n      company_estimated_revenue  lead_source_other  lead_source_referral   \n7072                  -0.515709               True                 False  \\\n4141                  -0.693591              False                 False   \n6227                  -0.853138               True                 False   \n9804                  -1.130094               True                 False   \n7930                  -1.170302               True                 False   \n...                         ...                ...                   ...   \n3153                   0.258866              False                 False   \n5491                   1.361220              False                 False   \n5748                   0.394931               True                 False   \n5271                   0.860384              False                 False   \n6497                   0.927934              False                 False   \n\n      education_level_master  occupation_employee  occupation_unemployed   \n7072                   False                 True                  False  \\\n4141                   False                False                  False   \n6227                   False                 True                  False   \n9804                   False                False                   True   \n7930                    True                False                  False   \n...                      ...                  ...                    ...   \n3153                   False                False                  False   \n5491                    True                 True                  False   \n5748                    True                False                   True   \n5271                    True                 True                  False   \n6497                    True                False                   True   \n\n      initial_response_neutral  initial_response_positive   \n7072                     False                       True  \\\n4141                     False                       True   \n6227                      True                      False   \n9804                     False                      False   \n7930                     False                      False   \n...                        ...                        ...   \n3153                     False                       True   \n5491                      True                      False   \n5748                      True                      False   \n5271                      True                      False   \n6497                      True                      False   \n\n      company_size_medium  lead_quality_hot  lead_quality_warm  \n7072                 True              True              False  \n4141                 True              True              False  \n6227                 True             False               True  \n9804                False             False              False  \n7930                False             False              False  \n...                   ...               ...                ...  \n3153                 True              True              False  \n5491                 True             False               True  \n5748                 True              True              False  \n5271                 True             False               True  \n6497                 True              True              False  \n\n[7000 rows x 15 columns]\nbefore. After,\n[[52]\n [93]\n [74]\n ...\n [55]\n [63]\n [74]]\n[[-0.14360492903202754 -0.280340030404062 0.1350951979872874 ... True\n  True False]\n [1.093860606328078 0.9023576726142242 -0.4238092854116561 ... True True\n  False]\n [-0.246727056978703 -0.4117508862949827 -0.4238092854116561 ... True\n  False True]\n ...\n [0.2688835827546743 -0.5431617421859034 -0.4238092854116561 ... True\n  True False]\n [-0.04048280108535209 -0.3898490769798293 0.1350951979872874 ... True\n  False True]\n [-0.45297131287205394 -0.6526707887616706 -0.4238092854116561 ... True\n  True False]].",
     "output_type": "error",
     "traceback": [
      "\u001B[1;31m---------------------------------------------------------------------------\u001B[0m",
      "\u001B[1;31mValueError\u001B[0m                                Traceback (most recent call last)",
      "Cell \u001B[1;32mIn[41], line 1\u001B[0m\n\u001B[1;32m----> 1\u001B[0m lr \u001B[38;5;241m=\u001B[39m \u001B[43msm\u001B[49m\u001B[38;5;241;43m.\u001B[39;49m\u001B[43mGLM\u001B[49m\u001B[43m(\u001B[49m\u001B[43mleads_y_train\u001B[49m\u001B[43m,\u001B[49m\u001B[43mleads_x_train_clean_rfe\u001B[49m\u001B[43m,\u001B[49m\u001B[43m \u001B[49m\u001B[43mfamily\u001B[49m\u001B[43m \u001B[49m\u001B[38;5;241;43m=\u001B[39;49m\u001B[43m \u001B[49m\u001B[43msm\u001B[49m\u001B[38;5;241;43m.\u001B[39;49m\u001B[43mfamilies\u001B[49m\u001B[38;5;241;43m.\u001B[39;49m\u001B[43mBinomial\u001B[49m\u001B[43m(\u001B[49m\u001B[43m)\u001B[49m\u001B[43m)\u001B[49m\u001B[38;5;241m.\u001B[39mfit()\n",
      "File \u001B[1;32m~\\PycharmProjects\\leadScoringModel\\venv\\lib\\site-packages\\statsmodels\\genmod\\generalized_linear_model.py:316\u001B[0m, in \u001B[0;36mGLM.__init__\u001B[1;34m(self, endog, exog, family, offset, exposure, freq_weights, var_weights, missing, **kwargs)\u001B[0m\n\u001B[0;32m    313\u001B[0m \u001B[38;5;28mself\u001B[39m\u001B[38;5;241m.\u001B[39mfreq_weights \u001B[38;5;241m=\u001B[39m freq_weights\n\u001B[0;32m    314\u001B[0m \u001B[38;5;28mself\u001B[39m\u001B[38;5;241m.\u001B[39mvar_weights \u001B[38;5;241m=\u001B[39m var_weights\n\u001B[1;32m--> 316\u001B[0m \u001B[38;5;28msuper\u001B[39m(GLM, \u001B[38;5;28mself\u001B[39m)\u001B[38;5;241m.\u001B[39m\u001B[38;5;21m__init__\u001B[39m(endog, exog, missing\u001B[38;5;241m=\u001B[39mmissing,\n\u001B[0;32m    317\u001B[0m                           offset\u001B[38;5;241m=\u001B[39moffset, exposure\u001B[38;5;241m=\u001B[39mexposure,\n\u001B[0;32m    318\u001B[0m                           freq_weights\u001B[38;5;241m=\u001B[39mfreq_weights,\n\u001B[0;32m    319\u001B[0m                           var_weights\u001B[38;5;241m=\u001B[39mvar_weights, \u001B[38;5;241m*\u001B[39m\u001B[38;5;241m*\u001B[39mkwargs)\n\u001B[0;32m    320\u001B[0m \u001B[38;5;28mself\u001B[39m\u001B[38;5;241m.\u001B[39m_check_inputs(family, \u001B[38;5;28mself\u001B[39m\u001B[38;5;241m.\u001B[39moffset, \u001B[38;5;28mself\u001B[39m\u001B[38;5;241m.\u001B[39mexposure, \u001B[38;5;28mself\u001B[39m\u001B[38;5;241m.\u001B[39mendog,\n\u001B[0;32m    321\u001B[0m                    \u001B[38;5;28mself\u001B[39m\u001B[38;5;241m.\u001B[39mfreq_weights, \u001B[38;5;28mself\u001B[39m\u001B[38;5;241m.\u001B[39mvar_weights)\n\u001B[0;32m    322\u001B[0m \u001B[38;5;28;01mif\u001B[39;00m offset \u001B[38;5;129;01mis\u001B[39;00m \u001B[38;5;28;01mNone\u001B[39;00m:\n",
      "File \u001B[1;32m~\\PycharmProjects\\leadScoringModel\\venv\\lib\\site-packages\\statsmodels\\base\\model.py:267\u001B[0m, in \u001B[0;36mLikelihoodModel.__init__\u001B[1;34m(self, endog, exog, **kwargs)\u001B[0m\n\u001B[0;32m    266\u001B[0m \u001B[38;5;28;01mdef\u001B[39;00m \u001B[38;5;21m__init__\u001B[39m(\u001B[38;5;28mself\u001B[39m, endog, exog\u001B[38;5;241m=\u001B[39m\u001B[38;5;28;01mNone\u001B[39;00m, \u001B[38;5;241m*\u001B[39m\u001B[38;5;241m*\u001B[39mkwargs):\n\u001B[1;32m--> 267\u001B[0m     \u001B[38;5;28msuper\u001B[39m()\u001B[38;5;241m.\u001B[39m\u001B[38;5;21m__init__\u001B[39m(endog, exog, \u001B[38;5;241m*\u001B[39m\u001B[38;5;241m*\u001B[39mkwargs)\n\u001B[0;32m    268\u001B[0m     \u001B[38;5;28mself\u001B[39m\u001B[38;5;241m.\u001B[39minitialize()\n",
      "File \u001B[1;32m~\\PycharmProjects\\leadScoringModel\\venv\\lib\\site-packages\\statsmodels\\base\\model.py:92\u001B[0m, in \u001B[0;36mModel.__init__\u001B[1;34m(self, endog, exog, **kwargs)\u001B[0m\n\u001B[0;32m     90\u001B[0m missing \u001B[38;5;241m=\u001B[39m kwargs\u001B[38;5;241m.\u001B[39mpop(\u001B[38;5;124m'\u001B[39m\u001B[38;5;124mmissing\u001B[39m\u001B[38;5;124m'\u001B[39m, \u001B[38;5;124m'\u001B[39m\u001B[38;5;124mnone\u001B[39m\u001B[38;5;124m'\u001B[39m)\n\u001B[0;32m     91\u001B[0m hasconst \u001B[38;5;241m=\u001B[39m kwargs\u001B[38;5;241m.\u001B[39mpop(\u001B[38;5;124m'\u001B[39m\u001B[38;5;124mhasconst\u001B[39m\u001B[38;5;124m'\u001B[39m, \u001B[38;5;28;01mNone\u001B[39;00m)\n\u001B[1;32m---> 92\u001B[0m \u001B[38;5;28mself\u001B[39m\u001B[38;5;241m.\u001B[39mdata \u001B[38;5;241m=\u001B[39m \u001B[38;5;28mself\u001B[39m\u001B[38;5;241m.\u001B[39m_handle_data(endog, exog, missing, hasconst,\n\u001B[0;32m     93\u001B[0m                               \u001B[38;5;241m*\u001B[39m\u001B[38;5;241m*\u001B[39mkwargs)\n\u001B[0;32m     94\u001B[0m \u001B[38;5;28mself\u001B[39m\u001B[38;5;241m.\u001B[39mk_constant \u001B[38;5;241m=\u001B[39m \u001B[38;5;28mself\u001B[39m\u001B[38;5;241m.\u001B[39mdata\u001B[38;5;241m.\u001B[39mk_constant\n\u001B[0;32m     95\u001B[0m \u001B[38;5;28mself\u001B[39m\u001B[38;5;241m.\u001B[39mexog \u001B[38;5;241m=\u001B[39m \u001B[38;5;28mself\u001B[39m\u001B[38;5;241m.\u001B[39mdata\u001B[38;5;241m.\u001B[39mexog\n",
      "File \u001B[1;32m~\\PycharmProjects\\leadScoringModel\\venv\\lib\\site-packages\\statsmodels\\base\\model.py:132\u001B[0m, in \u001B[0;36mModel._handle_data\u001B[1;34m(self, endog, exog, missing, hasconst, **kwargs)\u001B[0m\n\u001B[0;32m    131\u001B[0m \u001B[38;5;28;01mdef\u001B[39;00m \u001B[38;5;21m_handle_data\u001B[39m(\u001B[38;5;28mself\u001B[39m, endog, exog, missing, hasconst, \u001B[38;5;241m*\u001B[39m\u001B[38;5;241m*\u001B[39mkwargs):\n\u001B[1;32m--> 132\u001B[0m     data \u001B[38;5;241m=\u001B[39m handle_data(endog, exog, missing, hasconst, \u001B[38;5;241m*\u001B[39m\u001B[38;5;241m*\u001B[39mkwargs)\n\u001B[0;32m    133\u001B[0m     \u001B[38;5;66;03m# kwargs arrays could have changed, easier to just attach here\u001B[39;00m\n\u001B[0;32m    134\u001B[0m     \u001B[38;5;28;01mfor\u001B[39;00m key \u001B[38;5;129;01min\u001B[39;00m kwargs:\n",
      "File \u001B[1;32m~\\PycharmProjects\\leadScoringModel\\venv\\lib\\site-packages\\statsmodels\\base\\data.py:700\u001B[0m, in \u001B[0;36mhandle_data\u001B[1;34m(endog, exog, missing, hasconst, **kwargs)\u001B[0m\n\u001B[0;32m    697\u001B[0m     exog \u001B[38;5;241m=\u001B[39m np\u001B[38;5;241m.\u001B[39masarray(exog)\n\u001B[0;32m    699\u001B[0m klass \u001B[38;5;241m=\u001B[39m handle_data_class_factory(endog, exog)\n\u001B[1;32m--> 700\u001B[0m \u001B[38;5;28;01mreturn\u001B[39;00m klass(endog, exog\u001B[38;5;241m=\u001B[39mexog, missing\u001B[38;5;241m=\u001B[39mmissing, hasconst\u001B[38;5;241m=\u001B[39mhasconst,\n\u001B[0;32m    701\u001B[0m              \u001B[38;5;241m*\u001B[39m\u001B[38;5;241m*\u001B[39mkwargs)\n",
      "File \u001B[1;32m~\\PycharmProjects\\leadScoringModel\\venv\\lib\\site-packages\\statsmodels\\base\\data.py:84\u001B[0m, in \u001B[0;36mModelData.__init__\u001B[1;34m(self, endog, exog, missing, hasconst, **kwargs)\u001B[0m\n\u001B[0;32m     82\u001B[0m     \u001B[38;5;28mself\u001B[39m\u001B[38;5;241m.\u001B[39morig_endog \u001B[38;5;241m=\u001B[39m endog\n\u001B[0;32m     83\u001B[0m     \u001B[38;5;28mself\u001B[39m\u001B[38;5;241m.\u001B[39morig_exog \u001B[38;5;241m=\u001B[39m exog\n\u001B[1;32m---> 84\u001B[0m     \u001B[38;5;28mself\u001B[39m\u001B[38;5;241m.\u001B[39mendog, \u001B[38;5;28mself\u001B[39m\u001B[38;5;241m.\u001B[39mexog \u001B[38;5;241m=\u001B[39m \u001B[38;5;28;43mself\u001B[39;49m\u001B[38;5;241;43m.\u001B[39;49m\u001B[43m_convert_endog_exog\u001B[49m\u001B[43m(\u001B[49m\u001B[43mendog\u001B[49m\u001B[43m,\u001B[49m\u001B[43m \u001B[49m\u001B[43mexog\u001B[49m\u001B[43m)\u001B[49m\n\u001B[0;32m     86\u001B[0m \u001B[38;5;28mself\u001B[39m\u001B[38;5;241m.\u001B[39mconst_idx \u001B[38;5;241m=\u001B[39m \u001B[38;5;28;01mNone\u001B[39;00m\n\u001B[0;32m     87\u001B[0m \u001B[38;5;28mself\u001B[39m\u001B[38;5;241m.\u001B[39mk_constant \u001B[38;5;241m=\u001B[39m \u001B[38;5;241m0\u001B[39m\n",
      "File \u001B[1;32m~\\PycharmProjects\\leadScoringModel\\venv\\lib\\site-packages\\statsmodels\\base\\data.py:530\u001B[0m, in \u001B[0;36mPandasData._convert_endog_exog\u001B[1;34m(self, endog, exog)\u001B[0m\n\u001B[0;32m    528\u001B[0m     \u001B[38;5;28;01melse\u001B[39;00m:\n\u001B[0;32m    529\u001B[0m         exog_dtype \u001B[38;5;241m=\u001B[39m \u001B[38;5;28;01mNone\u001B[39;00m\n\u001B[1;32m--> 530\u001B[0m     \u001B[38;5;28;01mraise\u001B[39;00m \u001B[38;5;167;01mValueError\u001B[39;00m(\n\u001B[0;32m    531\u001B[0m         \u001B[38;5;124m\"\u001B[39m\u001B[38;5;124mPandas data cast to numpy dtype of object. Check apiInput data \u001B[39m\u001B[38;5;124m\"\u001B[39m\n\u001B[0;32m    532\u001B[0m         \u001B[38;5;124m\"\u001B[39m\u001B[38;5;124mwith np.asarray(data). The types seen were\u001B[39m\u001B[38;5;124m\"\u001B[39m\n\u001B[0;32m    533\u001B[0m         \u001B[38;5;124mf\u001B[39m\u001B[38;5;124m\"\u001B[39m\u001B[38;5;132;01m{\u001B[39;00mendog_dtype\u001B[38;5;132;01m}\u001B[39;00m\u001B[38;5;124m and \u001B[39m\u001B[38;5;132;01m{\u001B[39;00mexog_dtype\u001B[38;5;132;01m}\u001B[39;00m\u001B[38;5;124m. The data was\u001B[39m\u001B[38;5;130;01m\\n\u001B[39;00m\u001B[38;5;124m\"\u001B[39m\n\u001B[0;32m    534\u001B[0m         \u001B[38;5;124mf\u001B[39m\u001B[38;5;124m\"\u001B[39m\u001B[38;5;132;01m{\u001B[39;00morig_endog\u001B[38;5;132;01m}\u001B[39;00m\u001B[38;5;130;01m\\n\u001B[39;00m\u001B[38;5;124mand\u001B[39m\u001B[38;5;130;01m\\n\u001B[39;00m\u001B[38;5;124m \u001B[39m\u001B[38;5;132;01m{\u001B[39;00morig_exog\u001B[38;5;132;01m}\u001B[39;00m\u001B[38;5;130;01m\\n\u001B[39;00m\u001B[38;5;124mbefore. After,\u001B[39m\u001B[38;5;130;01m\\n\u001B[39;00m\u001B[38;5;132;01m{\u001B[39;00mendog\u001B[38;5;132;01m}\u001B[39;00m\u001B[38;5;130;01m\\n\u001B[39;00m\u001B[38;5;132;01m{\u001B[39;00mexog\u001B[38;5;132;01m}\u001B[39;00m\u001B[38;5;124m.\u001B[39m\u001B[38;5;124m\"\u001B[39m\n\u001B[0;32m    535\u001B[0m     )\n\u001B[0;32m    536\u001B[0m \u001B[38;5;28;01mreturn\u001B[39;00m \u001B[38;5;28msuper\u001B[39m(PandasData, \u001B[38;5;28mself\u001B[39m)\u001B[38;5;241m.\u001B[39m_convert_endog_exog(endog, exog)\n",
      "\u001B[1;31mValueError\u001B[0m: Pandas data cast to numpy dtype of object. Check apiInput data with np.asarray(data). The types seen werelead_score    int64\ndtype: object and age                          float64\nincome                       float64\ntotal_calls_attended         float64\ntotal_meetings_attended      float64\ncompany_estimated_revenue    float64\nlead_source_other               bool\nlead_source_referral            bool\neducation_level_master          bool\noccupation_employee             bool\noccupation_unemployed           bool\ninitial_response_neutral        bool\ninitial_response_positive       bool\ncompany_size_medium             bool\nlead_quality_hot                bool\nlead_quality_warm               bool\ndtype: object. The data was\n      lead_score\n7072          52\n4141          93\n6227          74\n9804          42\n7930          18\n...          ...\n3153          87\n5491          65\n5748          55\n5271          63\n6497          74\n\n[7000 rows x 1 columns]\nand\n            age    income  total_calls_attended  total_meetings_attended   \n7072 -0.143605 -0.280340              0.135095                 0.227912  \\\n4141  1.093861  0.902358             -0.423809                 1.145328   \n6227 -0.246727 -0.411751             -0.423809                 0.227912   \n9804 -0.349849 -0.849787             -1.541618                -1.606919   \n7930 -1.277948 -0.543162             -0.982714                -1.606919   \n...        ...       ...                   ...                      ...   \n3153 -0.246727  0.048187             -0.423809                 0.227912   \n5491  0.372006 -0.608867             -0.423809                 0.227912   \n5748  0.268884 -0.543162             -0.423809                 0.227912   \n5271 -0.040483 -0.389849              0.135095                 0.227912   \n6497 -0.452971 -0.652671             -0.423809                 0.227912   \n\n      company_estimated_revenue  lead_source_other  lead_source_referral   \n7072                  -0.515709               True                 False  \\\n4141                  -0.693591              False                 False   \n6227                  -0.853138               True                 False   \n9804                  -1.130094               True                 False   \n7930                  -1.170302               True                 False   \n...                         ...                ...                   ...   \n3153                   0.258866              False                 False   \n5491                   1.361220              False                 False   \n5748                   0.394931               True                 False   \n5271                   0.860384              False                 False   \n6497                   0.927934              False                 False   \n\n      education_level_master  occupation_employee  occupation_unemployed   \n7072                   False                 True                  False  \\\n4141                   False                False                  False   \n6227                   False                 True                  False   \n9804                   False                False                   True   \n7930                    True                False                  False   \n...                      ...                  ...                    ...   \n3153                   False                False                  False   \n5491                    True                 True                  False   \n5748                    True                False                   True   \n5271                    True                 True                  False   \n6497                    True                False                   True   \n\n      initial_response_neutral  initial_response_positive   \n7072                     False                       True  \\\n4141                     False                       True   \n6227                      True                      False   \n9804                     False                      False   \n7930                     False                      False   \n...                        ...                        ...   \n3153                     False                       True   \n5491                      True                      False   \n5748                      True                      False   \n5271                      True                      False   \n6497                      True                      False   \n\n      company_size_medium  lead_quality_hot  lead_quality_warm  \n7072                 True              True              False  \n4141                 True              True              False  \n6227                 True             False               True  \n9804                False             False              False  \n7930                False             False              False  \n...                   ...               ...                ...  \n3153                 True              True              False  \n5491                 True             False               True  \n5748                 True              True              False  \n5271                 True             False               True  \n6497                 True              True              False  \n\n[7000 rows x 15 columns]\nbefore. After,\n[[52]\n [93]\n [74]\n ...\n [55]\n [63]\n [74]]\n[[-0.14360492903202754 -0.280340030404062 0.1350951979872874 ... True\n  True False]\n [1.093860606328078 0.9023576726142242 -0.4238092854116561 ... True True\n  False]\n [-0.246727056978703 -0.4117508862949827 -0.4238092854116561 ... True\n  False True]\n ...\n [0.2688835827546743 -0.5431617421859034 -0.4238092854116561 ... True\n  True False]\n [-0.04048280108535209 -0.3898490769798293 0.1350951979872874 ... True\n  False True]\n [-0.45297131287205394 -0.6526707887616706 -0.4238092854116561 ... True\n  True False]]."
     ]
    }
   ],
   "source": [
    "lr = sm.GLM(leads_y_train,leads_x_train_clean_rfe, family = sm.families.Binomial()).fit()"
   ],
   "metadata": {
    "collapsed": false,
    "pycharm": {
     "name": "#%%\n"
    }
   }
  },
  {
   "cell_type": "code",
   "execution_count": 42,
   "outputs": [
    {
     "name": "stdout",
     "output_type": "stream",
     "text": [
      "0.050666666666666665\n"
     ]
    }
   ],
   "source": [
    "leads_y_test_predicted = rf.predict(leads_x_test_clean)\n",
    "leads_y_test_predicted = pd.DataFrame(leads_y_test_predicted)\n",
    "\n",
    "accuracy = metrics.accuracy_score(leads_y_test, leads_y_test_predicted)\n",
    "#auc_score = metrics.roc_auc_score(leads_y_test, leads_y_test_predicted, multi_class='ovr')\n",
    "\n",
    "print(accuracy)"
   ],
   "metadata": {
    "collapsed": false,
    "pycharm": {
     "name": "#%%\n"
    }
   }
  },
  {
   "cell_type": "code",
   "execution_count": 43,
   "outputs": [
    {
     "name": "stderr",
     "output_type": "stream",
     "text": [
      "C:\\Users\\hp\\PycharmProjects\\leadScoringModel\\venv\\lib\\site-packages\\sklearn\\utils\\validation.py:1143: DataConversionWarning: A column-vector y was passed when a 1d array was expected. Please change the shape of y to (n_samples, ), for example using ravel().\n",
      "  y = column_or_1d(y, warn=True)\n"
     ]
    },
    {
     "name": "stdout",
     "output_type": "stream",
     "text": [
      "Accuracy: 0.052\n",
      "Confusion Matrix:\n",
      "[[0 5 3 ... 0 0 0]\n",
      " [2 4 0 ... 0 0 0]\n",
      " [1 8 1 ... 0 0 0]\n",
      " ...\n",
      " [0 0 0 ... 3 8 0]\n",
      " [0 0 0 ... 3 8 0]\n",
      " [0 0 0 ... 5 7 0]]\n"
     ]
    }
   ],
   "source": [
    "from sklearn.metrics import accuracy_score, confusion_matrix\n",
    "\n",
    "LR_clf = LogisticRegression(max_iter=1000)\n",
    "LR_clf.fit(leads_x_train_clean_rfe, leads_y_train)\n",
    "LR_pred = LR_clf.predict(leads_x_test_clean_rfe)\n",
    "\n",
    "LR_acc = accuracy_score(leads_y_test, LR_pred)\n",
    "LR_cnf = confusion_matrix(leads_y_test, LR_pred)\n",
    "print('Accuracy:', LR_acc)\n",
    "print('Confusion Matrix:')\n",
    "print(LR_cnf)"
   ],
   "metadata": {
    "collapsed": false,
    "pycharm": {
     "name": "#%%\n"
    }
   }
  },
  {
   "cell_type": "code",
   "execution_count": 44,
   "outputs": [
    {
     "data": {
      "text/plain": "      lead_score\n6139          64\n1012          89\n1784          77\n9452          13\n1329          85",
      "text/html": "<div>\n<style scoped>\n    .dataframe tbody tr th:only-of-type {\n        vertical-align: middle;\n    }\n\n    .dataframe tbody tr th {\n        vertical-align: top;\n    }\n\n    .dataframe thead th {\n        text-align: right;\n    }\n</style>\n<table border=\"1\" class=\"dataframe\">\n  <thead>\n    <tr style=\"text-align: right;\">\n      <th></th>\n      <th>lead_score</th>\n    </tr>\n  </thead>\n  <tbody>\n    <tr>\n      <th>6139</th>\n      <td>64</td>\n    </tr>\n    <tr>\n      <th>1012</th>\n      <td>89</td>\n    </tr>\n    <tr>\n      <th>1784</th>\n      <td>77</td>\n    </tr>\n    <tr>\n      <th>9452</th>\n      <td>13</td>\n    </tr>\n    <tr>\n      <th>1329</th>\n      <td>85</td>\n    </tr>\n  </tbody>\n</table>\n</div>"
     },
     "execution_count": 44,
     "metadata": {},
     "output_type": "execute_result"
    }
   ],
   "source": [
    "leads_y_test.head()"
   ],
   "metadata": {
    "collapsed": false,
    "pycharm": {
     "name": "#%%\n"
    }
   }
  },
  {
   "cell_type": "code",
   "execution_count": 48,
   "outputs": [
    {
     "data": {
      "text/plain": "87"
     },
     "execution_count": 48,
     "metadata": {},
     "output_type": "execute_result"
    }
   ],
   "source": [
    "LR_pred[2]"
   ],
   "metadata": {
    "collapsed": false,
    "pycharm": {
     "name": "#%%\n"
    }
   }
  },
  {
   "cell_type": "code",
   "execution_count": null,
   "outputs": [],
   "source": [],
   "metadata": {
    "collapsed": false,
    "pycharm": {
     "name": "#%%\n"
    }
   }
  }
 ],
 "metadata": {
  "kernelspec": {
   "display_name": "Python 3",
   "language": "python",
   "name": "python3"
  },
  "language_info": {
   "codemirror_mode": {
    "name": "ipython",
    "version": 2
   },
   "file_extension": ".py",
   "mimetype": "text/x-python",
   "name": "python",
   "nbconvert_exporter": "python",
   "pygments_lexer": "ipython2",
   "version": "2.7.6"
  }
 },
 "nbformat": 4,
 "nbformat_minor": 0
}